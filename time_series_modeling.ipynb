{
 "cells": [
  {
   "cell_type": "code",
   "execution_count": 1,
   "id": "4ac9668a-0ea1-448d-8186-d11bf10a495a",
   "metadata": {},
   "outputs": [],
   "source": [
    "import warnings\n",
    "warnings.filterwarnings(\"ignore\")\n",
    "\n",
    "import numpy as np\n",
    "import pandas as pd\n",
    "\n",
    "from datetime import datetime\n",
    "from sklearn.metrics import mean_squared_error\n",
    "from math import sqrt\n",
    "\n",
    "import matplotlib.pyplot as plt\n",
    "%matplotlib inline\n",
    "import seaborn as sns\n",
    "from pandas.plotting import register_matplotlib_converters\n",
    "\n",
    "import statsmodels.api as sm\n",
    "from statsmodels.tsa.api import Holt\n",
    "\n",
    "from env import get_connection"
   ]
  },
  {
   "cell_type": "markdown",
   "id": "bd20b3f7-44ac-41f5-8f34-967d56af0af4",
   "metadata": {},
   "source": [
    "## Exercises\n",
    "\n",
    "The end result of this exercise should be a Jupyter notebook named `model`.\n",
    "\n",
    "Using [saas.csv](https://ds.codeup.com/saas.csv) or log data from API usage\n",
    "\n",
    "1. Split data (train/test) and resample by any period, except daily, and aggregate using the sum. "
   ]
  },
  {
   "cell_type": "code",
   "execution_count": 2,
   "id": "236468cd-d187-427a-9126-ad8e98e5a63f",
   "metadata": {},
   "outputs": [],
   "source": [
    "df = pd.read_csv(\"saas.csv\", parse_dates=['Month_Invoiced'], index_col='Month_Invoiced').sort_index()"
   ]
  },
  {
   "cell_type": "code",
   "execution_count": 3,
   "id": "e6574022-1652-464b-8f23-da2bd093a4ea",
   "metadata": {},
   "outputs": [
    {
     "data": {
      "text/plain": [
       "Customer_Id          0\n",
       "Invoice_Id           0\n",
       "Subscription_Type    0\n",
       "Amount               0\n",
       "dtype: int64"
      ]
     },
     "execution_count": 3,
     "metadata": {},
     "output_type": "execute_result"
    }
   ],
   "source": [
    "df.isna().sum()"
   ]
  },
  {
   "cell_type": "code",
   "execution_count": 4,
   "id": "e7ab0d7f-994e-4004-a300-46cd8f199c58",
   "metadata": {},
   "outputs": [],
   "source": [
    "#, usecols=['Month_Invoiced', 'Subscription_Type', 'Amount']"
   ]
  },
  {
   "cell_type": "code",
   "execution_count": 5,
   "id": "86d25327-9f5e-427c-828c-d435e96542ad",
   "metadata": {},
   "outputs": [],
   "source": [
    "train_index = int(len(df) * 0.6)"
   ]
  },
  {
   "cell_type": "code",
   "execution_count": 6,
   "id": "1f25e669-0d15-4851-8fb4-6b51302ff6bc",
   "metadata": {},
   "outputs": [],
   "source": [
    "val_index = int(len(df) * 0.85)"
   ]
  },
  {
   "cell_type": "code",
   "execution_count": 7,
   "id": "d776f101-11d8-46c1-ba8d-c8aecec08da7",
   "metadata": {},
   "outputs": [],
   "source": [
    "train = df[:train_index]"
   ]
  },
  {
   "cell_type": "code",
   "execution_count": 8,
   "id": "af264a12-5ddb-488f-bafd-a38196fb4337",
   "metadata": {},
   "outputs": [
    {
     "data": {
      "text/plain": [
       "(474274, 4)"
      ]
     },
     "execution_count": 8,
     "metadata": {},
     "output_type": "execute_result"
    }
   ],
   "source": [
    "train.shape"
   ]
  },
  {
   "cell_type": "code",
   "execution_count": 9,
   "id": "28be57e6-d679-49b9-a736-8cba8ae81e2a",
   "metadata": {},
   "outputs": [],
   "source": [
    "val = df[train_index:val_index]"
   ]
  },
  {
   "cell_type": "code",
   "execution_count": 10,
   "id": "00858ebe-ce32-4319-b4d0-093f3ae19c7c",
   "metadata": {},
   "outputs": [
    {
     "data": {
      "text/plain": [
       "(197615, 4)"
      ]
     },
     "execution_count": 10,
     "metadata": {},
     "output_type": "execute_result"
    }
   ],
   "source": [
    "val.shape"
   ]
  },
  {
   "cell_type": "code",
   "execution_count": 11,
   "id": "c5fb39bb-fe3e-4e18-9382-ab0af88681b6",
   "metadata": {},
   "outputs": [],
   "source": [
    "test = df[val_index:]"
   ]
  },
  {
   "cell_type": "code",
   "execution_count": 12,
   "id": "6b91d22b-6e67-480c-b548-726fb6ac99e4",
   "metadata": {},
   "outputs": [
    {
     "data": {
      "text/plain": [
       "(118569, 4)"
      ]
     },
     "execution_count": 12,
     "metadata": {},
     "output_type": "execute_result"
    }
   ],
   "source": [
    "test.shape"
   ]
  },
  {
   "cell_type": "code",
   "execution_count": 13,
   "id": "ca27f307-722e-4b51-9a47-421864f2d9d2",
   "metadata": {},
   "outputs": [
    {
     "data": {
      "text/plain": [
       "True"
      ]
     },
     "execution_count": 13,
     "metadata": {},
     "output_type": "execute_result"
    }
   ],
   "source": [
    "df.shape[0] == train.shape[0] + val.shape[0] + test.shape[0]"
   ]
  },
  {
   "cell_type": "code",
   "execution_count": null,
   "id": "7075a0db-20f2-463b-94ec-a18c0e1ed982",
   "metadata": {},
   "outputs": [],
   "source": []
  },
  {
   "cell_type": "code",
   "execution_count": 14,
   "id": "6e996b4c-a76e-4915-ae4f-e004e8db4f42",
   "metadata": {
    "tags": []
   },
   "outputs": [
    {
     "data": {
      "text/html": [
       "<div>\n",
       "<style scoped>\n",
       "    .dataframe tbody tr th:only-of-type {\n",
       "        vertical-align: middle;\n",
       "    }\n",
       "\n",
       "    .dataframe tbody tr th {\n",
       "        vertical-align: top;\n",
       "    }\n",
       "\n",
       "    .dataframe thead th {\n",
       "        text-align: right;\n",
       "    }\n",
       "</style>\n",
       "<table border=\"1\" class=\"dataframe\">\n",
       "  <thead>\n",
       "    <tr style=\"text-align: right;\">\n",
       "      <th></th>\n",
       "      <th>Customer_Id</th>\n",
       "      <th>Invoice_Id</th>\n",
       "      <th>Subscription_Type</th>\n",
       "      <th>Amount</th>\n",
       "    </tr>\n",
       "    <tr>\n",
       "      <th>Month_Invoiced</th>\n",
       "      <th></th>\n",
       "      <th></th>\n",
       "      <th></th>\n",
       "      <th></th>\n",
       "    </tr>\n",
       "  </thead>\n",
       "  <tbody>\n",
       "    <tr>\n",
       "      <th>2014-02-02</th>\n",
       "      <td>20199990000</td>\n",
       "      <td>100199990000</td>\n",
       "      <td>7170.0</td>\n",
       "      <td>35850.0</td>\n",
       "    </tr>\n",
       "    <tr>\n",
       "      <th>2014-02-09</th>\n",
       "      <td>0</td>\n",
       "      <td>0</td>\n",
       "      <td>0.0</td>\n",
       "      <td>0.0</td>\n",
       "    </tr>\n",
       "    <tr>\n",
       "      <th>2014-02-16</th>\n",
       "      <td>0</td>\n",
       "      <td>0</td>\n",
       "      <td>0.0</td>\n",
       "      <td>0.0</td>\n",
       "    </tr>\n",
       "    <tr>\n",
       "      <th>2014-02-23</th>\n",
       "      <td>0</td>\n",
       "      <td>0</td>\n",
       "      <td>0.0</td>\n",
       "      <td>0.0</td>\n",
       "    </tr>\n",
       "    <tr>\n",
       "      <th>2014-03-02</th>\n",
       "      <td>20000052061</td>\n",
       "      <td>99592010100</td>\n",
       "      <td>7438.0</td>\n",
       "      <td>37190.0</td>\n",
       "    </tr>\n",
       "    <tr>\n",
       "      <th>...</th>\n",
       "      <td>...</td>\n",
       "      <td>...</td>\n",
       "      <td>...</td>\n",
       "      <td>...</td>\n",
       "    </tr>\n",
       "    <tr>\n",
       "      <th>2016-03-06</th>\n",
       "      <td>16230363306</td>\n",
       "      <td>87400384855</td>\n",
       "      <td>10391.0</td>\n",
       "      <td>51955.0</td>\n",
       "    </tr>\n",
       "    <tr>\n",
       "      <th>2016-03-13</th>\n",
       "      <td>0</td>\n",
       "      <td>0</td>\n",
       "      <td>0.0</td>\n",
       "      <td>0.0</td>\n",
       "    </tr>\n",
       "    <tr>\n",
       "      <th>2016-03-20</th>\n",
       "      <td>0</td>\n",
       "      <td>0</td>\n",
       "      <td>0.0</td>\n",
       "      <td>0.0</td>\n",
       "    </tr>\n",
       "    <tr>\n",
       "      <th>2016-03-27</th>\n",
       "      <td>0</td>\n",
       "      <td>0</td>\n",
       "      <td>0.0</td>\n",
       "      <td>0.0</td>\n",
       "    </tr>\n",
       "    <tr>\n",
       "      <th>2016-04-03</th>\n",
       "      <td>10308184446</td>\n",
       "      <td>55889386916</td>\n",
       "      <td>7127.0</td>\n",
       "      <td>35635.0</td>\n",
       "    </tr>\n",
       "  </tbody>\n",
       "</table>\n",
       "<p>114 rows × 4 columns</p>\n",
       "</div>"
      ],
      "text/plain": [
       "                Customer_Id    Invoice_Id  Subscription_Type   Amount\n",
       "Month_Invoiced                                                       \n",
       "2014-02-02      20199990000  100199990000             7170.0  35850.0\n",
       "2014-02-09                0             0                0.0      0.0\n",
       "2014-02-16                0             0                0.0      0.0\n",
       "2014-02-23                0             0                0.0      0.0\n",
       "2014-03-02      20000052061   99592010100             7438.0  37190.0\n",
       "...                     ...           ...                ...      ...\n",
       "2016-03-06      16230363306   87400384855            10391.0  51955.0\n",
       "2016-03-13                0             0                0.0      0.0\n",
       "2016-03-20                0             0                0.0      0.0\n",
       "2016-03-27                0             0                0.0      0.0\n",
       "2016-04-03      10308184446   55889386916             7127.0  35635.0\n",
       "\n",
       "[114 rows x 4 columns]"
      ]
     },
     "execution_count": 14,
     "metadata": {},
     "output_type": "execute_result"
    }
   ],
   "source": [
    "train.resample('W').sum()"
   ]
  },
  {
   "cell_type": "markdown",
   "id": "0b6f29e2-bf81-4910-be87-fc3edad58358",
   "metadata": {},
   "source": [
    "2. Forecast, plot and evaluate using each at least 4 of the methods we discussed:\n",
    "    - Last Observed Value\n",
    "    - Simple Average\n",
    "    - Moving Average\n",
    "    - Holt's Linear Trend \n",
    "    - Holt's Seasonal Trend\n",
    "    - Based on previous year/month/etc., this is up to you."
   ]
  },
  {
   "cell_type": "markdown",
   "id": "4610ae19-99ee-4a65-a01a-23910d2152a3",
   "metadata": {},
   "source": [
    "### Last Observed Value"
   ]
  },
  {
   "cell_type": "code",
   "execution_count": 15,
   "id": "514aaf11-7109-4dc5-8e0e-18099256eaaa",
   "metadata": {},
   "outputs": [
    {
     "data": {
      "text/plain": [
       "0.0"
      ]
     },
     "execution_count": 15,
     "metadata": {},
     "output_type": "execute_result"
    }
   ],
   "source": [
    "train['Subscription_Type'][-1:][0]"
   ]
  },
  {
   "cell_type": "code",
   "execution_count": 16,
   "id": "dd94a428-72a0-46e1-97c6-b20b242c6fd6",
   "metadata": {},
   "outputs": [
    {
     "data": {
      "text/plain": [
       "320037"
      ]
     },
     "execution_count": 16,
     "metadata": {},
     "output_type": "execute_result"
    }
   ],
   "source": [
    "len(train[train['Subscription_Type'] == 0.0])"
   ]
  },
  {
   "cell_type": "code",
   "execution_count": 17,
   "id": "6ac130ab-49de-4c7b-83e8-a3a12b77c899",
   "metadata": {},
   "outputs": [
    {
     "data": {
      "text/plain": [
       "154237"
      ]
     },
     "execution_count": 17,
     "metadata": {},
     "output_type": "execute_result"
    }
   ],
   "source": [
    "len(train[train['Subscription_Type'] != 0.0])"
   ]
  },
  {
   "cell_type": "code",
   "execution_count": 18,
   "id": "70fd8875-0403-4b5d-8099-f6eef5db3d15",
   "metadata": {},
   "outputs": [
    {
     "data": {
      "text/plain": [
       "25000"
      ]
     },
     "execution_count": 18,
     "metadata": {},
     "output_type": "execute_result"
    }
   ],
   "source": [
    "len(train.Customer_Id.value_counts())"
   ]
  },
  {
   "cell_type": "code",
   "execution_count": 19,
   "id": "c3b0bb9f-389f-4788-b15f-965ad3c4c16d",
   "metadata": {},
   "outputs": [
    {
     "data": {
      "text/plain": [
       "474274"
      ]
     },
     "execution_count": 19,
     "metadata": {},
     "output_type": "execute_result"
    }
   ],
   "source": [
    "len(train.Invoice_Id.value_counts())"
   ]
  },
  {
   "cell_type": "code",
   "execution_count": 20,
   "id": "a2362869-8ee4-4953-b7de-e15962fce818",
   "metadata": {},
   "outputs": [],
   "source": [
    "last_subscription = train['Subscription_Type'].tail(1)"
   ]
  },
  {
   "cell_type": "code",
   "execution_count": 21,
   "id": "519601f1-fee3-4d3d-b167-961c4333610b",
   "metadata": {},
   "outputs": [],
   "source": [
    "last_amount = train['Amount'].tail(1)"
   ]
  },
  {
   "cell_type": "code",
   "execution_count": 22,
   "id": "d7f12617-742b-4d24-8c6a-7964b51daafe",
   "metadata": {},
   "outputs": [],
   "source": [
    "yhat_df = pd.DataFrame(\n",
    "    {'subscription_total': last_subscription,\n",
    "     'amount': last_amount},\n",
    "    index=val.index)"
   ]
  },
  {
   "cell_type": "markdown",
   "id": "b3f9d3b5-fb30-4c59-9a17-4076d2adb8db",
   "metadata": {},
   "source": [
    "#rmse0 = round(sqrt(mean_squared_error(val['Subscription_Type'], yhat_df['subscription_total'])), 0)"
   ]
  },
  {
   "cell_type": "markdown",
   "id": "744d85b1-4c77-4457-af28-d45c3dea42aa",
   "metadata": {},
   "source": [
    "rmse1 = round(sqrt(mean_squared_error(val['Amount'], yhat_df['amount'])), 0)"
   ]
  },
  {
   "cell_type": "markdown",
   "id": "85d11c9d-9427-43b7-94b5-576e667f8115",
   "metadata": {},
   "source": [
    "Basically the prediction is 0.0 for Subscription Type and Amount."
   ]
  },
  {
   "cell_type": "markdown",
   "id": "4341d00a-ca28-423e-8c63-be58d0dc0cbb",
   "metadata": {},
   "source": [
    "### Simple Average"
   ]
  },
  {
   "cell_type": "code",
   "execution_count": 23,
   "id": "41b85ef7-db8d-408d-b6b6-7f788a514af6",
   "metadata": {},
   "outputs": [
    {
     "data": {
      "text/plain": [
       "(0.52, 2.6)"
      ]
     },
     "execution_count": 23,
     "metadata": {},
     "output_type": "execute_result"
    }
   ],
   "source": [
    "avg_subscriptions = round(train['Subscription_Type'].mean(), 2)\n",
    "avg_amount = round(train['Amount'].mean(), 2)\n",
    "avg_subscriptions, avg_amount"
   ]
  },
  {
   "cell_type": "code",
   "execution_count": 26,
   "id": "b884ce6e-a10b-4982-96a7-a68fa4c2a295",
   "metadata": {},
   "outputs": [],
   "source": [
    "def make_baseline_predictions(sales_predictions=None, quantity_predictions=None):\n",
    "    yhat_df = pd.DataFrame({'Subscription_Type': avg_subscriptions,\n",
    "                           'Amount': avg_amount},\n",
    "                          index=val.index)\n",
    "    return yhat_df"
   ]
  },
  {
   "cell_type": "code",
   "execution_count": 27,
   "id": "2fe22b9d-d755-4914-827d-782fd76b79d0",
   "metadata": {},
   "outputs": [],
   "source": [
    "yhat_df = make_baseline_predictions(avg_subscriptions, avg_amount)"
   ]
  },
  {
   "cell_type": "code",
   "execution_count": 28,
   "id": "e24764dc-ffc9-4fa4-9500-a8dcb0b0c82a",
   "metadata": {},
   "outputs": [
    {
     "data": {
      "text/html": [
       "<div>\n",
       "<style scoped>\n",
       "    .dataframe tbody tr th:only-of-type {\n",
       "        vertical-align: middle;\n",
       "    }\n",
       "\n",
       "    .dataframe tbody tr th {\n",
       "        vertical-align: top;\n",
       "    }\n",
       "\n",
       "    .dataframe thead th {\n",
       "        text-align: right;\n",
       "    }\n",
       "</style>\n",
       "<table border=\"1\" class=\"dataframe\">\n",
       "  <thead>\n",
       "    <tr style=\"text-align: right;\">\n",
       "      <th></th>\n",
       "      <th>Subscription_Type</th>\n",
       "      <th>Amount</th>\n",
       "    </tr>\n",
       "    <tr>\n",
       "      <th>Month_Invoiced</th>\n",
       "      <th></th>\n",
       "      <th></th>\n",
       "    </tr>\n",
       "  </thead>\n",
       "  <tbody>\n",
       "    <tr>\n",
       "      <th>2016-03-31</th>\n",
       "      <td>0.52</td>\n",
       "      <td>2.6</td>\n",
       "    </tr>\n",
       "    <tr>\n",
       "      <th>2016-03-31</th>\n",
       "      <td>0.52</td>\n",
       "      <td>2.6</td>\n",
       "    </tr>\n",
       "    <tr>\n",
       "      <th>2016-03-31</th>\n",
       "      <td>0.52</td>\n",
       "      <td>2.6</td>\n",
       "    </tr>\n",
       "    <tr>\n",
       "      <th>2016-03-31</th>\n",
       "      <td>0.52</td>\n",
       "      <td>2.6</td>\n",
       "    </tr>\n",
       "    <tr>\n",
       "      <th>2016-03-31</th>\n",
       "      <td>0.52</td>\n",
       "      <td>2.6</td>\n",
       "    </tr>\n",
       "  </tbody>\n",
       "</table>\n",
       "</div>"
      ],
      "text/plain": [
       "                Subscription_Type  Amount\n",
       "Month_Invoiced                           \n",
       "2016-03-31                   0.52     2.6\n",
       "2016-03-31                   0.52     2.6\n",
       "2016-03-31                   0.52     2.6\n",
       "2016-03-31                   0.52     2.6\n",
       "2016-03-31                   0.52     2.6"
      ]
     },
     "execution_count": 28,
     "metadata": {},
     "output_type": "execute_result"
    }
   ],
   "source": [
    "yhat_df.head()"
   ]
  },
  {
   "cell_type": "code",
   "execution_count": 29,
   "id": "2c9fd376-54c5-4441-ad07-b66593c486ec",
   "metadata": {},
   "outputs": [
    {
     "data": {
      "text/plain": [
       "1.0"
      ]
     },
     "execution_count": 29,
     "metadata": {},
     "output_type": "execute_result"
    }
   ],
   "source": [
    "rmse0 = round(sqrt(mean_squared_error(val['Subscription_Type'], yhat_df['Subscription_Type'])), 0)\n",
    "rmse0"
   ]
  },
  {
   "cell_type": "code",
   "execution_count": 30,
   "id": "46241f27-7199-4c98-9da7-f223a641164e",
   "metadata": {},
   "outputs": [
    {
     "data": {
      "text/plain": [
       "5.0"
      ]
     },
     "execution_count": 30,
     "metadata": {},
     "output_type": "execute_result"
    }
   ],
   "source": [
    "rmse1 = round(sqrt(mean_squared_error(val['Amount'], yhat_df['Amount'])), 0)\n",
    "rmse1"
   ]
  },
  {
   "cell_type": "markdown",
   "id": "7d21b013-cf16-430a-a6b7-e36b4df2e267",
   "metadata": {},
   "source": [
    "### Moving Average"
   ]
  },
  {
   "cell_type": "code",
   "execution_count": null,
   "id": "7303d0a8-bacf-46c9-b336-bb7059521644",
   "metadata": {},
   "outputs": [],
   "source": []
  },
  {
   "cell_type": "code",
   "execution_count": null,
   "id": "76a60e5d-e9e6-4e9e-9773-e0c63ba0b7b1",
   "metadata": {},
   "outputs": [],
   "source": []
  },
  {
   "cell_type": "code",
   "execution_count": null,
   "id": "6856f1d9-2634-415c-bd5a-a2d3ca1b3f5e",
   "metadata": {},
   "outputs": [],
   "source": []
  },
  {
   "cell_type": "markdown",
   "id": "df7c7f8d-2d7c-4fd3-8035-0e3f50550eb5",
   "metadata": {},
   "source": [
    "Bonus: \n",
    "1. Using the store item demand data, create a forecast of `sales_total` and `quantity` for 2018 using the `Previous Cycle` approach.  .  \n",
    "2. Predict 2018 total **monthly** sales for a single store and/or item by creating a model using prophet.\n",
    "3. Return a dataframe with the month, store_id, y-hat, and the confidence intervals (y-hat lower, y-hat upper).\n",
    "4. Plot the 2018 monthly sales predictions."
   ]
  },
  {
   "cell_type": "code",
   "execution_count": null,
   "id": "2c20b5f4-e9c0-4439-b00c-4340a83aee30",
   "metadata": {},
   "outputs": [],
   "source": []
  }
 ],
 "metadata": {
  "kernelspec": {
   "display_name": "Python 3 (ipykernel)",
   "language": "python",
   "name": "python3"
  },
  "language_info": {
   "codemirror_mode": {
    "name": "ipython",
    "version": 3
   },
   "file_extension": ".py",
   "mimetype": "text/x-python",
   "name": "python",
   "nbconvert_exporter": "python",
   "pygments_lexer": "ipython3",
   "version": "3.9.15"
  }
 },
 "nbformat": 4,
 "nbformat_minor": 5
}
