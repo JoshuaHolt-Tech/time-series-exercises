{
 "cells": [
  {
   "cell_type": "code",
   "execution_count": 1,
   "id": "4ac9668a-0ea1-448d-8186-d11bf10a495a",
   "metadata": {},
   "outputs": [],
   "source": [
    "import warnings\n",
    "warnings.filterwarnings(\"ignore\")\n",
    "\n",
    "import numpy as np\n",
    "import pandas as pd\n",
    "\n",
    "from datetime import datetime\n",
    "from sklearn.metrics import mean_squared_error\n",
    "from math import sqrt\n",
    "\n",
    "import matplotlib.pyplot as plt\n",
    "%matplotlib inline\n",
    "import seaborn as sns\n",
    "from pandas.plotting import register_matplotlib_converters\n",
    "\n",
    "import statsmodels.api as sm\n",
    "from statsmodels.tsa.api import Holt\n",
    "from statsmodels.tsa.holtwinters import ExponentialSmoothing"
   ]
  },
  {
   "cell_type": "markdown",
   "id": "bd20b3f7-44ac-41f5-8f34-967d56af0af4",
   "metadata": {},
   "source": [
    "## Exercises\n",
    "\n",
    "The end result of this exercise should be a Jupyter notebook named `model`.\n",
    "\n",
    "Using [saas.csv](https://ds.codeup.com/saas.csv) or log data from API usage\n",
    "\n",
    "1. Split data (train/test) and resample by any period, except daily, and aggregate using the sum. "
   ]
  },
  {
   "cell_type": "code",
   "execution_count": 2,
   "id": "236468cd-d187-427a-9126-ad8e98e5a63f",
   "metadata": {},
   "outputs": [],
   "source": [
    "df = pd.read_csv(\"saas.csv\", parse_dates=['Month_Invoiced'], index_col='Month_Invoiced', usecols=['Month_Invoiced', 'Subscription_Type', 'Amount']).sort_index()"
   ]
  },
  {
   "cell_type": "code",
   "execution_count": 3,
   "id": "03898455-0e71-489a-9df2-17ec95ffc627",
   "metadata": {},
   "outputs": [
    {
     "data": {
      "text/html": [
       "<div>\n",
       "<style scoped>\n",
       "    .dataframe tbody tr th:only-of-type {\n",
       "        vertical-align: middle;\n",
       "    }\n",
       "\n",
       "    .dataframe tbody tr th {\n",
       "        vertical-align: top;\n",
       "    }\n",
       "\n",
       "    .dataframe thead th {\n",
       "        text-align: right;\n",
       "    }\n",
       "</style>\n",
       "<table border=\"1\" class=\"dataframe\">\n",
       "  <thead>\n",
       "    <tr style=\"text-align: right;\">\n",
       "      <th></th>\n",
       "      <th>Subscription_Type</th>\n",
       "      <th>Amount</th>\n",
       "    </tr>\n",
       "    <tr>\n",
       "      <th>Month_Invoiced</th>\n",
       "      <th></th>\n",
       "      <th></th>\n",
       "    </tr>\n",
       "  </thead>\n",
       "  <tbody>\n",
       "    <tr>\n",
       "      <th>2014-01-31</th>\n",
       "      <td>0.0</td>\n",
       "      <td>0.0</td>\n",
       "    </tr>\n",
       "    <tr>\n",
       "      <th>2014-01-31</th>\n",
       "      <td>2.0</td>\n",
       "      <td>10.0</td>\n",
       "    </tr>\n",
       "    <tr>\n",
       "      <th>2014-01-31</th>\n",
       "      <td>0.0</td>\n",
       "      <td>0.0</td>\n",
       "    </tr>\n",
       "    <tr>\n",
       "      <th>2014-01-31</th>\n",
       "      <td>0.0</td>\n",
       "      <td>0.0</td>\n",
       "    </tr>\n",
       "    <tr>\n",
       "      <th>2014-01-31</th>\n",
       "      <td>1.0</td>\n",
       "      <td>5.0</td>\n",
       "    </tr>\n",
       "  </tbody>\n",
       "</table>\n",
       "</div>"
      ],
      "text/plain": [
       "                Subscription_Type  Amount\n",
       "Month_Invoiced                           \n",
       "2014-01-31                    0.0     0.0\n",
       "2014-01-31                    2.0    10.0\n",
       "2014-01-31                    0.0     0.0\n",
       "2014-01-31                    0.0     0.0\n",
       "2014-01-31                    1.0     5.0"
      ]
     },
     "execution_count": 3,
     "metadata": {},
     "output_type": "execute_result"
    }
   ],
   "source": [
    "df.head()"
   ]
  },
  {
   "cell_type": "code",
   "execution_count": 4,
   "id": "34385e8d-c12a-49b2-88c6-51842212a8e4",
   "metadata": {},
   "outputs": [
    {
     "name": "stdout",
     "output_type": "stream",
     "text": [
      "Number of rows: 48\n",
      "Number of days between first and last day: 1431 days 00:00:00\n"
     ]
    }
   ],
   "source": [
    "print('Number of rows:', df.index.nunique())\n",
    "n_days = df.index.max() - df.index.min() + pd.Timedelta('1d')\n",
    "print(f\"Number of days between first and last day:\", n_days)"
   ]
  },
  {
   "cell_type": "code",
   "execution_count": 5,
   "id": "1a3377d0-dea4-47d2-a423-1f973d2416f1",
   "metadata": {},
   "outputs": [
    {
     "data": {
      "text/plain": [
       "Timestamp('2014-01-31 00:00:00')"
      ]
     },
     "execution_count": 5,
     "metadata": {},
     "output_type": "execute_result"
    }
   ],
   "source": [
    "df.index.min()"
   ]
  },
  {
   "cell_type": "code",
   "execution_count": 6,
   "id": "94542a0d-7a0b-463c-bb59-95397b9d03cf",
   "metadata": {},
   "outputs": [
    {
     "data": {
      "text/plain": [
       "2014-01-31    20000\n",
       "2014-02-28    19800\n",
       "2014-03-31    19599\n",
       "2014-04-30    19413\n",
       "2014-05-31    19221\n",
       "2014-06-30    19038\n",
       "2014-07-31    18851\n",
       "2014-08-31    18672\n",
       "2014-09-30    18494\n",
       "2014-10-31    18313\n",
       "2014-11-30    18145\n",
       "2014-12-31    17996\n",
       "2015-01-31    17829\n",
       "2015-02-28    17680\n",
       "2015-03-31    17530\n",
       "2015-04-30    17376\n",
       "2015-05-31    17225\n",
       "2015-06-30    17089\n",
       "2015-07-31    16951\n",
       "2015-08-31    16817\n",
       "2015-09-30    16671\n",
       "2015-10-31    16529\n",
       "2015-11-30    16387\n",
       "2015-12-31    16268\n",
       "2016-01-31    16142\n",
       "2016-02-29    16019\n",
       "2016-03-31    15895\n",
       "2016-04-30    15777\n",
       "2016-05-31    15685\n",
       "2016-06-30    15571\n",
       "2016-07-31    15460\n",
       "2016-08-31    15355\n",
       "2016-09-30    15240\n",
       "2016-10-31    15144\n",
       "2016-11-30    15049\n",
       "2016-12-31    14938\n",
       "2017-01-31    14840\n",
       "2017-02-28    14741\n",
       "2017-03-31    14665\n",
       "2017-04-30    14576\n",
       "2017-05-31    14475\n",
       "2017-06-30    14400\n",
       "2017-07-31    14312\n",
       "2017-08-31    14209\n",
       "2017-09-30    14131\n",
       "2017-10-31    14041\n",
       "2017-11-30    13985\n",
       "2017-12-31    13914\n",
       "Name: Month_Invoiced, dtype: int64"
      ]
     },
     "execution_count": 6,
     "metadata": {},
     "output_type": "execute_result"
    }
   ],
   "source": [
    "df.index.value_counts()"
   ]
  },
  {
   "cell_type": "code",
   "execution_count": 7,
   "id": "b7065237-2f67-4a9b-907f-7d2adc0b6f9c",
   "metadata": {},
   "outputs": [],
   "source": [
    "#df.Subscription_Type.value_counts()"
   ]
  },
  {
   "cell_type": "code",
   "execution_count": 8,
   "id": "a2fc16ed-55ef-44b6-9c9d-b1bd3ed104c4",
   "metadata": {},
   "outputs": [
    {
     "data": {
      "text/plain": [
       "0.0     496410\n",
       "5.0     178212\n",
       "10.0     70706\n",
       "15.0     26474\n",
       "20.0     18656\n",
       "Name: Amount, dtype: int64"
      ]
     },
     "execution_count": 8,
     "metadata": {},
     "output_type": "execute_result"
    }
   ],
   "source": [
    "df.Amount.value_counts()"
   ]
  },
  {
   "cell_type": "code",
   "execution_count": null,
   "id": "3523d729-a69d-4db5-8459-5f9579a7493f",
   "metadata": {},
   "outputs": [],
   "source": []
  },
  {
   "cell_type": "code",
   "execution_count": 9,
   "id": "e6574022-1652-464b-8f23-da2bd093a4ea",
   "metadata": {},
   "outputs": [
    {
     "data": {
      "text/plain": [
       "Subscription_Type    0\n",
       "Amount               0\n",
       "dtype: int64"
      ]
     },
     "execution_count": 9,
     "metadata": {},
     "output_type": "execute_result"
    }
   ],
   "source": [
    "df.isna().sum()"
   ]
  },
  {
   "cell_type": "code",
   "execution_count": 10,
   "id": "e7ab0d7f-994e-4004-a300-46cd8f199c58",
   "metadata": {},
   "outputs": [],
   "source": [
    "df = df.resample('M').sum()"
   ]
  },
  {
   "cell_type": "code",
   "execution_count": 11,
   "id": "86d25327-9f5e-427c-828c-d435e96542ad",
   "metadata": {},
   "outputs": [],
   "source": [
    "train_index = int(len(df) * 0.6)"
   ]
  },
  {
   "cell_type": "code",
   "execution_count": 12,
   "id": "1f25e669-0d15-4851-8fb4-6b51302ff6bc",
   "metadata": {},
   "outputs": [],
   "source": [
    "val_index = int(len(df) * 0.85)"
   ]
  },
  {
   "cell_type": "code",
   "execution_count": 13,
   "id": "d776f101-11d8-46c1-ba8d-c8aecec08da7",
   "metadata": {},
   "outputs": [],
   "source": [
    "train = df[:train_index]"
   ]
  },
  {
   "cell_type": "code",
   "execution_count": 14,
   "id": "af264a12-5ddb-488f-bafd-a38196fb4337",
   "metadata": {},
   "outputs": [
    {
     "data": {
      "text/plain": [
       "(28, 2)"
      ]
     },
     "execution_count": 14,
     "metadata": {},
     "output_type": "execute_result"
    }
   ],
   "source": [
    "train.shape"
   ]
  },
  {
   "cell_type": "code",
   "execution_count": 15,
   "id": "28be57e6-d679-49b9-a736-8cba8ae81e2a",
   "metadata": {},
   "outputs": [],
   "source": [
    "val = df[train_index:val_index]"
   ]
  },
  {
   "cell_type": "code",
   "execution_count": 16,
   "id": "00858ebe-ce32-4319-b4d0-093f3ae19c7c",
   "metadata": {},
   "outputs": [
    {
     "data": {
      "text/plain": [
       "(12, 2)"
      ]
     },
     "execution_count": 16,
     "metadata": {},
     "output_type": "execute_result"
    }
   ],
   "source": [
    "val.shape"
   ]
  },
  {
   "cell_type": "code",
   "execution_count": 17,
   "id": "c5fb39bb-fe3e-4e18-9382-ab0af88681b6",
   "metadata": {},
   "outputs": [],
   "source": [
    "test = df[val_index:]"
   ]
  },
  {
   "cell_type": "code",
   "execution_count": 18,
   "id": "6b91d22b-6e67-480c-b548-726fb6ac99e4",
   "metadata": {},
   "outputs": [
    {
     "data": {
      "text/plain": [
       "(8, 2)"
      ]
     },
     "execution_count": 18,
     "metadata": {},
     "output_type": "execute_result"
    }
   ],
   "source": [
    "test.shape"
   ]
  },
  {
   "cell_type": "code",
   "execution_count": 19,
   "id": "ca27f307-722e-4b51-9a47-421864f2d9d2",
   "metadata": {},
   "outputs": [
    {
     "data": {
      "text/plain": [
       "True"
      ]
     },
     "execution_count": 19,
     "metadata": {},
     "output_type": "execute_result"
    }
   ],
   "source": [
    "df.shape[0] == train.shape[0] + val.shape[0] + test.shape[0]"
   ]
  },
  {
   "cell_type": "code",
   "execution_count": null,
   "id": "7075a0db-20f2-463b-94ec-a18c0e1ed982",
   "metadata": {},
   "outputs": [],
   "source": []
  },
  {
   "cell_type": "code",
   "execution_count": null,
   "id": "6e996b4c-a76e-4915-ae4f-e004e8db4f42",
   "metadata": {
    "tags": []
   },
   "outputs": [],
   "source": []
  },
  {
   "cell_type": "markdown",
   "id": "0b6f29e2-bf81-4910-be87-fc3edad58358",
   "metadata": {},
   "source": [
    "2. Forecast, plot and evaluate using each at least 4 of the methods we discussed:\n",
    "    - Last Observed Value\n",
    "    - Simple Average\n",
    "    - Moving Average\n",
    "    - Holt's Linear Trend \n",
    "    - Holt's Seasonal Trend\n",
    "    - Based on previous year/month/etc., this is up to you."
   ]
  },
  {
   "cell_type": "markdown",
   "id": "4610ae19-99ee-4a65-a01a-23910d2152a3",
   "metadata": {},
   "source": [
    "### Last Observed Value"
   ]
  },
  {
   "cell_type": "code",
   "execution_count": 20,
   "id": "514aaf11-7109-4dc5-8e0e-18099256eaaa",
   "metadata": {},
   "outputs": [],
   "source": [
    "#train['Subscription_Type'][-1:][0]"
   ]
  },
  {
   "cell_type": "code",
   "execution_count": 21,
   "id": "dd94a428-72a0-46e1-97c6-b20b242c6fd6",
   "metadata": {},
   "outputs": [],
   "source": [
    "#len(train[train['Subscription_Type'] == 0.0])"
   ]
  },
  {
   "cell_type": "code",
   "execution_count": 22,
   "id": "6ac130ab-49de-4c7b-83e8-a3a12b77c899",
   "metadata": {},
   "outputs": [],
   "source": [
    "#len(train[train['Subscription_Type'] != 0.0])"
   ]
  },
  {
   "cell_type": "code",
   "execution_count": 23,
   "id": "70fd8875-0403-4b5d-8099-f6eef5db3d15",
   "metadata": {},
   "outputs": [],
   "source": [
    "#len(train.Customer_Id.value_counts())"
   ]
  },
  {
   "cell_type": "code",
   "execution_count": 24,
   "id": "c3b0bb9f-389f-4788-b15f-965ad3c4c16d",
   "metadata": {},
   "outputs": [],
   "source": [
    "#len(train.Invoice_Id.value_counts())"
   ]
  },
  {
   "cell_type": "code",
   "execution_count": 25,
   "id": "a2362869-8ee4-4953-b7de-e15962fce818",
   "metadata": {},
   "outputs": [],
   "source": [
    "#last_subscription = train['Subscription_Type'].tail(1)"
   ]
  },
  {
   "cell_type": "code",
   "execution_count": 26,
   "id": "519601f1-fee3-4d3d-b167-961c4333610b",
   "metadata": {},
   "outputs": [],
   "source": [
    "last_amount = train['Amount'].tail(1)"
   ]
  },
  {
   "cell_type": "code",
   "execution_count": 27,
   "id": "d7f12617-742b-4d24-8c6a-7964b51daafe",
   "metadata": {},
   "outputs": [],
   "source": [
    "yhat_df = pd.DataFrame(\n",
    "    {'amount': last_amount},\n",
    "    index=val.index)"
   ]
  },
  {
   "cell_type": "markdown",
   "id": "b3f9d3b5-fb30-4c59-9a17-4076d2adb8db",
   "metadata": {},
   "source": [
    "#rmse0 = round(sqrt(mean_squared_error(val['Amount'], yhat_df['Amount'])), 0)"
   ]
  },
  {
   "cell_type": "markdown",
   "id": "744d85b1-4c77-4457-af28-d45c3dea42aa",
   "metadata": {},
   "source": [
    "rmse1 = round(sqrt(mean_squared_error(val['Amount'], yhat_df['amount'])), 0)"
   ]
  },
  {
   "cell_type": "markdown",
   "id": "85d11c9d-9427-43b7-94b5-576e667f8115",
   "metadata": {},
   "source": [
    "Basically the prediction is 0.0 for Subscription Type and Amount."
   ]
  },
  {
   "cell_type": "markdown",
   "id": "4341d00a-ca28-423e-8c63-be58d0dc0cbb",
   "metadata": {},
   "source": [
    "### Simple Average"
   ]
  },
  {
   "cell_type": "code",
   "execution_count": 28,
   "id": "41b85ef7-db8d-408d-b6b6-7f788a514af6",
   "metadata": {},
   "outputs": [
    {
     "data": {
      "text/plain": [
       "46490.89"
      ]
     },
     "execution_count": 28,
     "metadata": {},
     "output_type": "execute_result"
    }
   ],
   "source": [
    "avg_amount = round(train['Amount'].mean(), 2)\n",
    "avg_amount"
   ]
  },
  {
   "cell_type": "code",
   "execution_count": 29,
   "id": "b884ce6e-a10b-4982-96a7-a68fa4c2a295",
   "metadata": {},
   "outputs": [],
   "source": [
    "def make_baseline_predictions(sales_predictions=None, quantity_predictions=None):\n",
    "    yhat_df = pd.DataFrame({'Amount': avg_amount},\n",
    "                          index=val.index)\n",
    "    return yhat_df"
   ]
  },
  {
   "cell_type": "code",
   "execution_count": 30,
   "id": "2fe22b9d-d755-4914-827d-782fd76b79d0",
   "metadata": {},
   "outputs": [],
   "source": [
    "yhat_df = make_baseline_predictions(avg_amount)"
   ]
  },
  {
   "cell_type": "code",
   "execution_count": 31,
   "id": "e24764dc-ffc9-4fa4-9500-a8dcb0b0c82a",
   "metadata": {},
   "outputs": [
    {
     "data": {
      "text/html": [
       "<div>\n",
       "<style scoped>\n",
       "    .dataframe tbody tr th:only-of-type {\n",
       "        vertical-align: middle;\n",
       "    }\n",
       "\n",
       "    .dataframe tbody tr th {\n",
       "        vertical-align: top;\n",
       "    }\n",
       "\n",
       "    .dataframe thead th {\n",
       "        text-align: right;\n",
       "    }\n",
       "</style>\n",
       "<table border=\"1\" class=\"dataframe\">\n",
       "  <thead>\n",
       "    <tr style=\"text-align: right;\">\n",
       "      <th></th>\n",
       "      <th>Amount</th>\n",
       "    </tr>\n",
       "    <tr>\n",
       "      <th>Month_Invoiced</th>\n",
       "      <th></th>\n",
       "    </tr>\n",
       "  </thead>\n",
       "  <tbody>\n",
       "    <tr>\n",
       "      <th>2016-05-31</th>\n",
       "      <td>46490.89</td>\n",
       "    </tr>\n",
       "    <tr>\n",
       "      <th>2016-06-30</th>\n",
       "      <td>46490.89</td>\n",
       "    </tr>\n",
       "    <tr>\n",
       "      <th>2016-07-31</th>\n",
       "      <td>46490.89</td>\n",
       "    </tr>\n",
       "    <tr>\n",
       "      <th>2016-08-31</th>\n",
       "      <td>46490.89</td>\n",
       "    </tr>\n",
       "    <tr>\n",
       "      <th>2016-09-30</th>\n",
       "      <td>46490.89</td>\n",
       "    </tr>\n",
       "  </tbody>\n",
       "</table>\n",
       "</div>"
      ],
      "text/plain": [
       "                  Amount\n",
       "Month_Invoiced          \n",
       "2016-05-31      46490.89\n",
       "2016-06-30      46490.89\n",
       "2016-07-31      46490.89\n",
       "2016-08-31      46490.89\n",
       "2016-09-30      46490.89"
      ]
     },
     "execution_count": 31,
     "metadata": {},
     "output_type": "execute_result"
    }
   ],
   "source": [
    "yhat_df.head()"
   ]
  },
  {
   "cell_type": "code",
   "execution_count": 32,
   "id": "46241f27-7199-4c98-9da7-f223a641164e",
   "metadata": {},
   "outputs": [
    {
     "data": {
      "text/plain": [
       "6597.0"
      ]
     },
     "execution_count": 32,
     "metadata": {},
     "output_type": "execute_result"
    }
   ],
   "source": [
    "rmse1 = round(sqrt(mean_squared_error(val['Amount'], yhat_df['Amount'])), 0)\n",
    "rmse1"
   ]
  },
  {
   "cell_type": "markdown",
   "id": "7d21b013-cf16-430a-a6b7-e36b4df2e267",
   "metadata": {},
   "source": [
    "### Moving Average"
   ]
  },
  {
   "cell_type": "code",
   "execution_count": 33,
   "id": "7303d0a8-bacf-46c9-b336-bb7059521644",
   "metadata": {},
   "outputs": [],
   "source": [
    "period = 30"
   ]
  },
  {
   "cell_type": "code",
   "execution_count": 34,
   "id": "76a60e5d-e9e6-4e9e-9773-e0c63ba0b7b1",
   "metadata": {},
   "outputs": [
    {
     "name": "stdout",
     "output_type": "stream",
     "text": [
      "nan\n"
     ]
    }
   ],
   "source": [
    "#Keeping the last 30 days\n",
    "rolling_amount = round(train['Amount'].rolling(period).mean()[-1],2)\n",
    "print(rolling_amount)"
   ]
  },
  {
   "cell_type": "code",
   "execution_count": 35,
   "id": "6856f1d9-2634-415c-bd5a-a2d3ca1b3f5e",
   "metadata": {},
   "outputs": [],
   "source": [
    "yhat_df = make_baseline_predictions(rolling_amount)"
   ]
  },
  {
   "cell_type": "code",
   "execution_count": 36,
   "id": "bbecd17d-e432-44f3-8df4-ea934cd4082b",
   "metadata": {},
   "outputs": [
    {
     "data": {
      "text/html": [
       "<div>\n",
       "<style scoped>\n",
       "    .dataframe tbody tr th:only-of-type {\n",
       "        vertical-align: middle;\n",
       "    }\n",
       "\n",
       "    .dataframe tbody tr th {\n",
       "        vertical-align: top;\n",
       "    }\n",
       "\n",
       "    .dataframe thead th {\n",
       "        text-align: right;\n",
       "    }\n",
       "</style>\n",
       "<table border=\"1\" class=\"dataframe\">\n",
       "  <thead>\n",
       "    <tr style=\"text-align: right;\">\n",
       "      <th></th>\n",
       "      <th>Amount</th>\n",
       "    </tr>\n",
       "    <tr>\n",
       "      <th>Month_Invoiced</th>\n",
       "      <th></th>\n",
       "    </tr>\n",
       "  </thead>\n",
       "  <tbody>\n",
       "    <tr>\n",
       "      <th>2016-05-31</th>\n",
       "      <td>46490.89</td>\n",
       "    </tr>\n",
       "    <tr>\n",
       "      <th>2016-06-30</th>\n",
       "      <td>46490.89</td>\n",
       "    </tr>\n",
       "    <tr>\n",
       "      <th>2016-07-31</th>\n",
       "      <td>46490.89</td>\n",
       "    </tr>\n",
       "    <tr>\n",
       "      <th>2016-08-31</th>\n",
       "      <td>46490.89</td>\n",
       "    </tr>\n",
       "    <tr>\n",
       "      <th>2016-09-30</th>\n",
       "      <td>46490.89</td>\n",
       "    </tr>\n",
       "  </tbody>\n",
       "</table>\n",
       "</div>"
      ],
      "text/plain": [
       "                  Amount\n",
       "Month_Invoiced          \n",
       "2016-05-31      46490.89\n",
       "2016-06-30      46490.89\n",
       "2016-07-31      46490.89\n",
       "2016-08-31      46490.89\n",
       "2016-09-30      46490.89"
      ]
     },
     "execution_count": 36,
     "metadata": {},
     "output_type": "execute_result"
    }
   ],
   "source": [
    "yhat_df.head()"
   ]
  },
  {
   "cell_type": "code",
   "execution_count": null,
   "id": "df7c462a-8399-4d25-8a57-8a4c5c3f53db",
   "metadata": {},
   "outputs": [],
   "source": []
  },
  {
   "cell_type": "code",
   "execution_count": 37,
   "id": "ab83d51b-ed18-4d76-98e1-4caf0e81ec9f",
   "metadata": {},
   "outputs": [
    {
     "name": "stdout",
     "output_type": "stream",
     "text": [
      "Amount -- RMSE: 6597\n"
     ]
    },
    {
     "data": {
      "image/png": "[encoded data removed]",
      "text/plain": [
       "<Figure size 1200x400 with 1 Axes>"
      ]
     },
     "metadata": {},
     "output_type": "display_data"
    }
   ],
   "source": [
    "plt.figure(figsize = (12,4))\n",
    "plt.scatter(x = train.index, y=train['Amount'], label = 'Train')\n",
    "plt.scatter(x= val.index, y=val['Amount'], label = 'Validate')\n",
    "plt.scatter(x= val.index, y = yhat_df['Amount'], label = 'Prediction')\n",
    "plt.title('Amount')\n",
    "rmse = round(sqrt(mean_squared_error(val['Amount'], yhat_df['Amount'])), 0)\n",
    "\n",
    "print('Amount', '-- RMSE: {:.0f}'.format(rmse))\n",
    "plt.legend()\n",
    "plt.show()"
   ]
  },
  {
   "cell_type": "markdown",
   "id": "0eb6326a-29d2-45c3-aa5b-9f833009aea0",
   "metadata": {},
   "source": [
    "### Holt Linear"
   ]
  },
  {
   "cell_type": "code",
   "execution_count": 38,
   "id": "80983f94-648f-46c3-91af-4a6bba0fcf5a",
   "metadata": {},
   "outputs": [],
   "source": [
    "col = 'Amount' \n",
    "# create our Holt Object\n",
    "model = Holt(train[col], exponential=False, damped=True)"
   ]
  },
  {
   "cell_type": "code",
   "execution_count": 39,
   "id": "207babb1-4d25-4282-b33f-45fea4fa4531",
   "metadata": {},
   "outputs": [],
   "source": [
    "# fit the Holt object\n",
    "model = model.fit(optimized=True)"
   ]
  },
  {
   "cell_type": "code",
   "execution_count": 40,
   "id": "f8ddaa8c-319c-4ab0-b049-7d71cd8598aa",
   "metadata": {
    "tags": []
   },
   "outputs": [],
   "source": [
    "start = val.index[0]"
   ]
  },
  {
   "cell_type": "code",
   "execution_count": 41,
   "id": "736509e3-a9ac-4379-9ba3-de16e8e1197c",
   "metadata": {},
   "outputs": [],
   "source": [
    "end = val.index[-1]"
   ]
  },
  {
   "cell_type": "code",
   "execution_count": 42,
   "id": "072bd36b-535d-4067-8c4e-1f5f0776fed0",
   "metadata": {},
   "outputs": [],
   "source": [
    "yhat_amount_total = model.predict(start =start, end = end)"
   ]
  },
  {
   "cell_type": "code",
   "execution_count": 43,
   "id": "99f01de4-638d-4b07-8f51-1c4c1202f6d0",
   "metadata": {},
   "outputs": [
    {
     "name": "stdout",
     "output_type": "stream",
     "text": [
      "Amount -- RMSE: 351\n"
     ]
    },
    {
     "data": {
      "image/png": "[encoded data removed]",
      "text/plain": [
       "<Figure size 1200x400 with 1 Axes>"
      ]
     },
     "metadata": {},
     "output_type": "display_data"
    }
   ],
   "source": [
    "plt.figure(figsize = (12,4))\n",
    "plt.scatter(x = train.index, y=train['Amount'], label = 'Train')\n",
    "plt.scatter(x= val.index, y=val['Amount'], label = 'Validate')\n",
    "plt.scatter(x= val.index, y = yhat_amount_total, label = 'Prediction')\n",
    "plt.title('Amount')\n",
    "rmse = round(sqrt(mean_squared_error(val['Amount'], yhat_amount_total)), 0)\n",
    "plt.legend()\n",
    "print('Amount', '-- RMSE: {:.0f}'.format(rmse))\n",
    "plt.show()"
   ]
  },
  {
   "cell_type": "markdown",
   "id": "96c88e11-a51e-47ba-816d-46e67c97adea",
   "metadata": {},
   "source": [
    "### Holt's Seasonal Trend"
   ]
  },
  {
   "cell_type": "code",
   "execution_count": 44,
   "id": "9b9b7f49-820f-4c29-9cbc-b3d13fa07bbb",
   "metadata": {},
   "outputs": [
    {
     "name": "stderr",
     "output_type": "stream",
     "text": [
      "/Users/joshholt/opt/anaconda3/lib/python3.9/site-packages/statsmodels/tsa/holtwinters/model.py:915: ConvergenceWarning: Optimization failed to converge. Check mle_retvals.\n",
      "  warnings.warn(\n",
      "/Users/joshholt/opt/anaconda3/lib/python3.9/site-packages/statsmodels/tsa/holtwinters/model.py:915: ConvergenceWarning: Optimization failed to converge. Check mle_retvals.\n",
      "  warnings.warn(\n",
      "/Users/joshholt/opt/anaconda3/lib/python3.9/site-packages/statsmodels/tsa/holtwinters/model.py:915: ConvergenceWarning: Optimization failed to converge. Check mle_retvals.\n",
      "  warnings.warn(\n"
     ]
    }
   ],
   "source": [
    "hst_amount_fit1 = ExponentialSmoothing(train.Amount, seasonal_periods=12, trend='add', seasonal='add').fit()\n",
    "hst_amount_fit2 = ExponentialSmoothing(train.Amount, seasonal_periods=12, trend='add', seasonal='mul').fit()\n",
    "hst_amount_fit3 = ExponentialSmoothing(train.Amount, seasonal_periods=12, trend='add', seasonal='add', damped=True).fit()\n",
    "hst_amount_fit4 = ExponentialSmoothing(train.Amount, seasonal_periods=12, trend='add', seasonal='mul', damped=True).fit()"
   ]
  },
  {
   "cell_type": "code",
   "execution_count": 45,
   "id": "a74a5f81-ecf5-42e4-9319-8a2fe20d9a0e",
   "metadata": {},
   "outputs": [
    {
     "data": {
      "text/html": [
       "<div>\n",
       "<style scoped>\n",
       "    .dataframe tbody tr th:only-of-type {\n",
       "        vertical-align: middle;\n",
       "    }\n",
       "\n",
       "    .dataframe tbody tr th {\n",
       "        vertical-align: top;\n",
       "    }\n",
       "\n",
       "    .dataframe thead th {\n",
       "        text-align: right;\n",
       "    }\n",
       "</style>\n",
       "<table border=\"1\" class=\"dataframe\">\n",
       "  <thead>\n",
       "    <tr style=\"text-align: right;\">\n",
       "      <th></th>\n",
       "      <th>model</th>\n",
       "      <th>SSE</th>\n",
       "    </tr>\n",
       "  </thead>\n",
       "  <tbody>\n",
       "    <tr>\n",
       "      <th>0</th>\n",
       "      <td>hst_amount_fit1</td>\n",
       "      <td>8.232845e+06</td>\n",
       "    </tr>\n",
       "    <tr>\n",
       "      <th>1</th>\n",
       "      <td>hst_amount_fit2</td>\n",
       "      <td>4.464662e+07</td>\n",
       "    </tr>\n",
       "    <tr>\n",
       "      <th>2</th>\n",
       "      <td>hst_amount_fit3</td>\n",
       "      <td>4.401569e+07</td>\n",
       "    </tr>\n",
       "    <tr>\n",
       "      <th>3</th>\n",
       "      <td>hst_amount_fit4</td>\n",
       "      <td>4.378357e+07</td>\n",
       "    </tr>\n",
       "  </tbody>\n",
       "</table>\n",
       "</div>"
      ],
      "text/plain": [
       "             model           SSE\n",
       "0  hst_amount_fit1  8.232845e+06\n",
       "1  hst_amount_fit2  4.464662e+07\n",
       "2  hst_amount_fit3  4.401569e+07\n",
       "3  hst_amount_fit4  4.378357e+07"
      ]
     },
     "execution_count": 45,
     "metadata": {},
     "output_type": "execute_result"
    }
   ],
   "source": [
    "results_amount=pd.DataFrame({'model':['hst_amount_fit1', 'hst_amount_fit2', 'hst_amount_fit3', 'hst_amount_fit4'],\n",
    "                              'SSE':[hst_amount_fit1.sse, hst_amount_fit2.sse, hst_amount_fit3.sse, hst_amount_fit4.sse]})\n",
    "results_amount"
   ]
  },
  {
   "cell_type": "code",
   "execution_count": 46,
   "id": "6fd3b5ec-c9ad-4757-92cd-21ebe31fb933",
   "metadata": {},
   "outputs": [
    {
     "data": {
      "text/html": [
       "<div>\n",
       "<style scoped>\n",
       "    .dataframe tbody tr th:only-of-type {\n",
       "        vertical-align: middle;\n",
       "    }\n",
       "\n",
       "    .dataframe tbody tr th {\n",
       "        vertical-align: top;\n",
       "    }\n",
       "\n",
       "    .dataframe thead th {\n",
       "        text-align: right;\n",
       "    }\n",
       "</style>\n",
       "<table border=\"1\" class=\"dataframe\">\n",
       "  <thead>\n",
       "    <tr style=\"text-align: right;\">\n",
       "      <th></th>\n",
       "      <th>Amount</th>\n",
       "    </tr>\n",
       "    <tr>\n",
       "      <th>Month_Invoiced</th>\n",
       "      <th></th>\n",
       "    </tr>\n",
       "  </thead>\n",
       "  <tbody>\n",
       "    <tr>\n",
       "      <th>2016-05-31</th>\n",
       "      <td>53184.294297</td>\n",
       "    </tr>\n",
       "    <tr>\n",
       "      <th>2016-06-30</th>\n",
       "      <td>53706.382984</td>\n",
       "    </tr>\n",
       "    <tr>\n",
       "      <th>2016-07-31</th>\n",
       "      <td>54276.253414</td>\n",
       "    </tr>\n",
       "    <tr>\n",
       "      <th>2016-08-31</th>\n",
       "      <td>54768.912661</td>\n",
       "    </tr>\n",
       "    <tr>\n",
       "      <th>2016-09-30</th>\n",
       "      <td>55222.086548</td>\n",
       "    </tr>\n",
       "    <tr>\n",
       "      <th>2016-10-31</th>\n",
       "      <td>55598.350827</td>\n",
       "    </tr>\n",
       "    <tr>\n",
       "      <th>2016-11-30</th>\n",
       "      <td>55551.486450</td>\n",
       "    </tr>\n",
       "    <tr>\n",
       "      <th>2016-12-31</th>\n",
       "      <td>55717.351095</td>\n",
       "    </tr>\n",
       "    <tr>\n",
       "      <th>2017-01-31</th>\n",
       "      <td>55660.581319</td>\n",
       "    </tr>\n",
       "    <tr>\n",
       "      <th>2017-02-28</th>\n",
       "      <td>56132.205112</td>\n",
       "    </tr>\n",
       "    <tr>\n",
       "      <th>2017-03-31</th>\n",
       "      <td>56665.085235</td>\n",
       "    </tr>\n",
       "    <tr>\n",
       "      <th>2017-04-30</th>\n",
       "      <td>57369.535565</td>\n",
       "    </tr>\n",
       "  </tbody>\n",
       "</table>\n",
       "</div>"
      ],
      "text/plain": [
       "                      Amount\n",
       "Month_Invoiced              \n",
       "2016-05-31      53184.294297\n",
       "2016-06-30      53706.382984\n",
       "2016-07-31      54276.253414\n",
       "2016-08-31      54768.912661\n",
       "2016-09-30      55222.086548\n",
       "2016-10-31      55598.350827\n",
       "2016-11-30      55551.486450\n",
       "2016-12-31      55717.351095\n",
       "2017-01-31      55660.581319\n",
       "2017-02-28      56132.205112\n",
       "2017-03-31      56665.085235\n",
       "2017-04-30      57369.535565"
      ]
     },
     "execution_count": 46,
     "metadata": {},
     "output_type": "execute_result"
    }
   ],
   "source": [
    "yhat_df = pd.DataFrame({'Amount': hst_amount_fit1.forecast(val.shape[0])}, index=val.index)\n",
    "yhat_df"
   ]
  },
  {
   "cell_type": "code",
   "execution_count": 47,
   "id": "aefb69fd-771d-4614-8764-6e88965aa97b",
   "metadata": {},
   "outputs": [
    {
     "name": "stdout",
     "output_type": "stream",
     "text": [
      "Amount -- RMSE: 2384\n"
     ]
    },
    {
     "data": {
      "image/png": "[encoded data removed]",
      "text/plain": [
       "<Figure size 1200x400 with 1 Axes>"
      ]
     },
     "metadata": {},
     "output_type": "display_data"
    }
   ],
   "source": [
    "plt.figure(figsize = (12,4))\n",
    "plt.scatter(x = train.index, y=train['Amount'], label = 'Train')\n",
    "plt.scatter(x= val.index, y=val['Amount'], label = 'Validate')\n",
    "plt.scatter(x= val.index, y = yhat_df, label = 'Prediction')\n",
    "plt.title('Amount')\n",
    "rmse = round(sqrt(mean_squared_error(val['Amount'], yhat_df)), 0)\n",
    "plt.legend()\n",
    "print('Amount', '-- RMSE: {:.0f}'.format(rmse))\n",
    "plt.show()"
   ]
  },
  {
   "cell_type": "markdown",
   "id": "df7c7f8d-2d7c-4fd3-8035-0e3f50550eb5",
   "metadata": {},
   "source": [
    "Bonus: \n",
    "1. Using the store item demand data, create a forecast of `sales_total` and `quantity` for 2018 using the `Previous Cycle` approach.  .  \n",
    "2. Predict 2018 total **monthly** sales for a single store and/or item by creating a model using prophet.\n",
    "3. Return a dataframe with the month, store_id, y-hat, and the confidence intervals (y-hat lower, y-hat upper).\n",
    "4. Plot the 2018 monthly sales predictions."
   ]
  },
  {
   "cell_type": "code",
   "execution_count": null,
   "id": "2c20b5f4-e9c0-4439-b00c-4340a83aee30",
   "metadata": {},
   "outputs": [],
   "source": []
  }
 ],
 "metadata": {
  "kernelspec": {
   "display_name": "Python 3 (ipykernel)",
   "language": "python",
   "name": "python3"
  },
  "language_info": {
   "codemirror_mode": {
    "name": "ipython",
    "version": 3
   },
   "file_extension": ".py",
   "mimetype": "text/x-python",
   "name": "python",
   "nbconvert_exporter": "python",
   "pygments_lexer": "ipython3",
   "version": "3.9.15"
  }
 },
 "nbformat": 4,
 "nbformat_minor": 5
}
