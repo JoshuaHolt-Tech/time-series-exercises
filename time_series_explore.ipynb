{
 "cells": [
  {
   "cell_type": "code",
   "execution_count": 1,
   "id": "9ee4b536-0c83-4c10-9c55-0240e6b6501b",
   "metadata": {},
   "outputs": [],
   "source": [
    "import numpy as np\n",
    "import pandas as pd\n",
    "import matplotlib.pyplot as plt\n",
    "import seaborn as sns\n",
    "import statsmodels.api as sm\n",
    "from matplotlib.dates import DateFormatter\n",
    "from sklearn.model_selection import TimeSeriesSplit\n",
    "\n",
    "import acquire as a\n",
    "import prepare as p"
   ]
  },
  {
   "cell_type": "markdown",
   "id": "93a195b6-cfa7-4be8-9db3-31fd53d42d27",
   "metadata": {},
   "source": [
    "# Explore Item Demand"
   ]
  },
  {
   "cell_type": "code",
   "execution_count": 2,
   "id": "63eab2d5-c088-4c81-850c-4f35c878a0f9",
   "metadata": {},
   "outputs": [],
   "source": [
    "df = a.tsa_item_demand()"
   ]
  },
  {
   "cell_type": "code",
   "execution_count": 3,
   "id": "4b2ede0f-ba73-4174-bc52-8ccda8feb8c4",
   "metadata": {},
   "outputs": [],
   "source": [
    "df = p.prepare_store(df)"
   ]
  },
  {
   "cell_type": "code",
   "execution_count": 4,
   "id": "ba887c7e-5dd2-44cc-a481-2992f018e9ba",
   "metadata": {},
   "outputs": [
    {
     "data": {
      "text/plain": [
       "Timedelta('1825 days 00:00:00')"
      ]
     },
     "execution_count": 4,
     "metadata": {},
     "output_type": "execute_result"
    }
   ],
   "source": [
    "df.index.max() - df.index.min()"
   ]
  },
  {
   "cell_type": "markdown",
   "id": "07d10b7a-6533-4c7e-98ee-913fa3183d0c",
   "metadata": {},
   "source": [
    "### Time Series Split"
   ]
  },
  {
   "cell_type": "markdown",
   "id": "a994b118-6625-4b28-b9dc-33e9b8514a42",
   "metadata": {},
   "source": [
    "Unsure how this works. n_splits only returns train and test no matter how many n_splits."
   ]
  },
  {
   "cell_type": "code",
   "execution_count": 5,
   "id": "edfb5c20-5656-42e7-9a20-0ed82649b868",
   "metadata": {},
   "outputs": [],
   "source": [
    "n_splits = 3"
   ]
  },
  {
   "cell_type": "code",
   "execution_count": 6,
   "id": "4243f676-c30d-4e4d-9389-a73a3586eed0",
   "metadata": {},
   "outputs": [],
   "source": [
    "tss = TimeSeriesSplit(n_splits)"
   ]
  },
  {
   "cell_type": "code",
   "execution_count": 7,
   "id": "dcdaa012-ccfc-4f07-a337-fede35008332",
   "metadata": {},
   "outputs": [],
   "source": [
    "X = df.drop(labels=['sales_total'], axis=1)\n",
    "y = df.sales_total"
   ]
  },
  {
   "cell_type": "code",
   "execution_count": 8,
   "id": "3809217f-6d73-4b29-a1ce-e49d79ee5a56",
   "metadata": {},
   "outputs": [
    {
     "data": {
      "text/plain": [
       "<generator object TimeSeriesSplit.split at 0x7fdb167d3820>"
      ]
     },
     "execution_count": 8,
     "metadata": {},
     "output_type": "execute_result"
    }
   ],
   "source": [
    "tss.split(X)"
   ]
  },
  {
   "cell_type": "code",
   "execution_count": 9,
   "id": "10fdfade-ec3b-4791-8fb7-5752a203e55b",
   "metadata": {},
   "outputs": [],
   "source": [
    "for train_index, test_index in tss.split(X):\n",
    "    X_train, X_test = X.iloc[train_index, :], X.iloc[test_index,:]\n",
    "    y_train, y_test = y.iloc[train_index], y.iloc[test_index]"
   ]
  },
  {
   "cell_type": "code",
   "execution_count": 12,
   "id": "84d871f5-9d34-4f84-8c29-cb138e74cb0d",
   "metadata": {
    "tags": []
   },
   "outputs": [
    {
     "data": {
      "text/plain": [
       "((684750, 15), (228250, 15), (913000, 16))"
      ]
     },
     "execution_count": 12,
     "metadata": {},
     "output_type": "execute_result"
    }
   ],
   "source": [
    "X_train.shape, X_test.shape, df.shape"
   ]
  },
  {
   "cell_type": "code",
   "execution_count": 11,
   "id": "bd196bad-05e8-4d78-b3d4-b85703292aa0",
   "metadata": {},
   "outputs": [
    {
     "data": {
      "text/plain": [
       "684750"
      ]
     },
     "execution_count": 11,
     "metadata": {},
     "output_type": "execute_result"
    }
   ],
   "source": [
    "len(train_index)"
   ]
  },
  {
   "cell_type": "code",
   "execution_count": 10,
   "id": "374d47bb-3ef3-4752-b995-92fec8fda287",
   "metadata": {},
   "outputs": [
    {
     "data": {
      "text/plain": [
       "Timedelta('1369 days 00:00:00')"
      ]
     },
     "execution_count": 10,
     "metadata": {},
     "output_type": "execute_result"
    }
   ],
   "source": [
    "X_train.index.max() - X_train.index.min()"
   ]
  },
  {
   "cell_type": "code",
   "execution_count": 11,
   "id": "6031f0cd-8336-4f1e-8355-82ab77d450ac",
   "metadata": {},
   "outputs": [
    {
     "data": {
      "text/plain": [
       "Timedelta('456 days 00:00:00')"
      ]
     },
     "execution_count": 11,
     "metadata": {},
     "output_type": "execute_result"
    }
   ],
   "source": [
    "X_test.index.max() - X_test.index.min()"
   ]
  },
  {
   "cell_type": "markdown",
   "id": "573f5816-b45e-4739-a06e-2b9f785e932e",
   "metadata": {},
   "source": [
    "### Human based splitting"
   ]
  },
  {
   "cell_type": "code",
   "execution_count": 13,
   "id": "645b7cf1-f103-49a1-9cc8-9b212597a46b",
   "metadata": {},
   "outputs": [],
   "source": [
    "train_size = 0.7"
   ]
  },
  {
   "cell_type": "code",
   "execution_count": 14,
   "id": "95648e01-93c7-4de6-a75b-fb99e68bc662",
   "metadata": {},
   "outputs": [],
   "source": [
    "n = df.shape[0]"
   ]
  },
  {
   "cell_type": "code",
   "execution_count": 15,
   "id": "32ed6de8-f680-471e-bf3f-f8d97e5079fe",
   "metadata": {},
   "outputs": [],
   "source": [
    "test_start_index = round(train_size * n)"
   ]
  },
  {
   "cell_type": "code",
   "execution_count": null,
   "id": "a84c6203-f1f3-4a12-8fc7-24b792ceb66b",
   "metadata": {},
   "outputs": [],
   "source": []
  },
  {
   "cell_type": "code",
   "execution_count": null,
   "id": "5766a257-dc25-4de4-8322-3af0363850fe",
   "metadata": {},
   "outputs": [],
   "source": []
  },
  {
   "cell_type": "markdown",
   "id": "761ad79f-92bc-44bd-9dbc-610258d50bff",
   "metadata": {},
   "source": [
    "# Explore Opsd Dataset"
   ]
  },
  {
   "cell_type": "code",
   "execution_count": 4,
   "id": "8575a5da-1958-49c4-b68f-31e7ab270e0b",
   "metadata": {},
   "outputs": [],
   "source": [
    "df1 = a.wrangle_germany_power()"
   ]
  },
  {
   "cell_type": "code",
   "execution_count": null,
   "id": "f022e879-df79-4eeb-bbe7-50365a4489bf",
   "metadata": {},
   "outputs": [],
   "source": [
    "df1 = p.prepare_germany(df1)"
   ]
  }
 ],
 "metadata": {
  "kernelspec": {
   "display_name": "Python 3 (ipykernel)",
   "language": "python",
   "name": "python3"
  },
  "language_info": {
   "codemirror_mode": {
    "name": "ipython",
    "version": 3
   },
   "file_extension": ".py",
   "mimetype": "text/x-python",
   "name": "python",
   "nbconvert_exporter": "python",
   "pygments_lexer": "ipython3",
   "version": "3.9.15"
  }
 },
 "nbformat": 4,
 "nbformat_minor": 5
}
