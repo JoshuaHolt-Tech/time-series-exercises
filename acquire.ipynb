{
 "cells": [
  {
   "cell_type": "code",
   "execution_count": 1,
   "id": "96b796ef-617c-4626-8b3c-454d20c606c5",
   "metadata": {},
   "outputs": [],
   "source": [
    "import pandas as pd\n",
    "import numpy as np\n",
    "import matplotlib.pyplot as plt\n",
    "import seaborn as sns\n",
    "import requests\n",
    "import math\n",
    "\n",
    "import acquire as a"
   ]
  },
  {
   "cell_type": "markdown",
   "id": "e0abeba5-ccb2-4433-ad57-3e1c653e921e",
   "metadata": {},
   "source": [
    "### 1. Using the code from the lesson as a guide and the REST API from https://swapi.dev/ as we did in the lesson, create a dataframe named people that has all of the data for people."
   ]
  },
  {
   "cell_type": "code",
   "execution_count": 2,
   "id": "9115e9ab-5dba-417a-8c71-b7b413b1706c",
   "metadata": {},
   "outputs": [],
   "source": [
    "url = 'https://swapi.dev/api/people'\n",
    "response = requests.get(url)\n",
    "#print(response.text)"
   ]
  },
  {
   "cell_type": "code",
   "execution_count": 3,
   "id": "06cf9d30-bc1f-4a16-831a-f9cac20eed44",
   "metadata": {},
   "outputs": [
    {
     "name": "stdout",
     "output_type": "stream",
     "text": [
      "<Response [200]>\n"
     ]
    },
    {
     "data": {
      "text/plain": [
       "{'people': 'https://swapi.dev/api/people/',\n",
       " 'planets': 'https://swapi.dev/api/planets/',\n",
       " 'films': 'https://swapi.dev/api/films/',\n",
       " 'species': 'https://swapi.dev/api/species/',\n",
       " 'vehicles': 'https://swapi.dev/api/vehicles/',\n",
       " 'starships': 'https://swapi.dev/api/starships/'}"
      ]
     },
     "execution_count": 3,
     "metadata": {},
     "output_type": "execute_result"
    }
   ],
   "source": [
    "root_url = 'https://swapi.dev/api/'\n",
    "response = requests.get(root_url)\n",
    "print(response)\n",
    "response.json()"
   ]
  },
  {
   "cell_type": "code",
   "execution_count": 4,
   "id": "58478b0c-628d-4edf-a7e2-98eba3d10896",
   "metadata": {},
   "outputs": [
    {
     "data": {
      "text/plain": [
       "dict_keys(['count', 'next', 'previous', 'results'])"
      ]
     },
     "execution_count": 4,
     "metadata": {},
     "output_type": "execute_result"
    }
   ],
   "source": [
    "response = requests.get('https://swapi.dev/api/people/')\n",
    "\n",
    "data = response.json()\n",
    "data.keys()"
   ]
  },
  {
   "cell_type": "code",
   "execution_count": 5,
   "id": "96534a2a-1e87-494e-a480-60e50768230b",
   "metadata": {},
   "outputs": [
    {
     "name": "stdout",
     "output_type": "stream",
     "text": [
      "number_of_people: 82\n",
      "next_page: https://swapi.dev/api/people/?page=2\n",
      "previous_page: None\n"
     ]
    }
   ],
   "source": [
    "number_of_people = data['count']\n",
    "next_page = data['next']\n",
    "previous_page = data['previous']\n",
    "\n",
    "print(f'number_of_people: {number_of_people}')\n",
    "print(f'next_page: {next_page}')\n",
    "print(f'previous_page: {previous_page}')"
   ]
  },
  {
   "cell_type": "code",
   "execution_count": 6,
   "id": "bb764ed2-25e4-44fa-b4f0-346be6b18f8a",
   "metadata": {},
   "outputs": [],
   "source": [
    "response = requests.get('https://swapi.dev/api/people/')\n"
   ]
  },
  {
   "cell_type": "code",
   "execution_count": 7,
   "id": "5753cfc1-1345-4cd5-be74-825d54f7bb8c",
   "metadata": {},
   "outputs": [],
   "source": [
    "data = response.json()"
   ]
  },
  {
   "cell_type": "code",
   "execution_count": 8,
   "id": "fdfa30af-8c23-4de9-98c4-ce07b7ecaad5",
   "metadata": {},
   "outputs": [
    {
     "name": "stdout",
     "output_type": "stream",
     "text": [
      "number_of_results: 10\n",
      "max_page: 9\n"
     ]
    }
   ],
   "source": [
    "number_of_results = len(data['results'])\n",
    "max_page = math.ceil(number_of_people / number_of_results)\n",
    "\n",
    "print(f'number_of_results: {number_of_results}')\n",
    "print(f'max_page: {max_page}')"
   ]
  },
  {
   "cell_type": "code",
   "execution_count": 9,
   "id": "970746ab-fba9-4e01-bd71-7633c448a52d",
   "metadata": {},
   "outputs": [],
   "source": [
    "people = pd.DataFrame(data['results'])\n",
    "#people.head()"
   ]
  },
  {
   "cell_type": "code",
   "execution_count": 10,
   "id": "f79c7b80-0c66-40c4-83e2-74cfe624d7fa",
   "metadata": {},
   "outputs": [
    {
     "data": {
      "text/plain": [
       "(10, 16)"
      ]
     },
     "execution_count": 10,
     "metadata": {},
     "output_type": "execute_result"
    }
   ],
   "source": [
    "people.shape"
   ]
  },
  {
   "cell_type": "code",
   "execution_count": 11,
   "id": "a3b9eec8-92e8-4498-ab77-71a304dd76fc",
   "metadata": {},
   "outputs": [],
   "source": [
    "while next_page != None:\n",
    "    response = requests.get(data['next'])\n",
    "    data = response.json()\n",
    "\n",
    "    number_of_people = data['count']\n",
    "    next_page = data['next']\n",
    "    previous_page = data['previous']\n",
    "    number_of_results = len(data['results'])\n",
    "    max_page = math.ceil(number_of_people / number_of_results)\n",
    "\n",
    "    people = pd.concat([people, pd.DataFrame(data['results'])], ignore_index=True)"
   ]
  },
  {
   "cell_type": "markdown",
   "id": "90532b9b-5328-4dfe-8ca8-4345a8efac30",
   "metadata": {},
   "source": [
    "### 2. Do the same thing, but for planets."
   ]
  },
  {
   "cell_type": "code",
   "execution_count": 12,
   "id": "8137bd22-3821-4969-9042-429787b4c60e",
   "metadata": {},
   "outputs": [],
   "source": [
    "url = 'https://swapi.dev/api/planets'\n",
    "response = requests.get(url)"
   ]
  },
  {
   "cell_type": "code",
   "execution_count": 13,
   "id": "1c2a0d3d-720e-4f25-ab18-fed04179a518",
   "metadata": {},
   "outputs": [
    {
     "data": {
      "text/plain": [
       "dict_keys(['count', 'next', 'previous', 'results'])"
      ]
     },
     "execution_count": 13,
     "metadata": {},
     "output_type": "execute_result"
    }
   ],
   "source": [
    "data = response.json()\n",
    "data.keys()"
   ]
  },
  {
   "cell_type": "code",
   "execution_count": 14,
   "id": "1f80b191-2f3d-42cf-84af-c37811733b22",
   "metadata": {},
   "outputs": [],
   "source": [
    "planets = pd.DataFrame(data['results'])"
   ]
  },
  {
   "cell_type": "code",
   "execution_count": 15,
   "id": "08db63fc-0960-44d7-b927-ed495bd32e68",
   "metadata": {},
   "outputs": [],
   "source": [
    "while next_page != None:\n",
    "    response = requests.get(data['next'])\n",
    "    data = response.json()\n",
    "\n",
    "    next_page = data['next']\n",
    "\n",
    "    planets = pd.concat([planets, pd.DataFrame(data['results'])], ignore_index=True)\n"
   ]
  },
  {
   "cell_type": "code",
   "execution_count": 16,
   "id": "846476c2-bdb8-45d4-909e-1087a6aab0e0",
   "metadata": {},
   "outputs": [
    {
     "name": "stdout",
     "output_type": "stream",
     "text": [
      "number_of_results: 10\n",
      "max_page: 6\n"
     ]
    }
   ],
   "source": [
    "number_of_planets = data['count']\n",
    "next_page = data['next']\n",
    "previous_page = data['previous']\n",
    "\n",
    "\n",
    "number_of_results = len(data['results'])\n",
    "max_page = math.ceil(number_of_planets / number_of_results)\n",
    "\n",
    "\n",
    "print(f'number_of_results: {number_of_results}')\n",
    "print(f'max_page: {max_page}')"
   ]
  },
  {
   "cell_type": "markdown",
   "id": "a60f7b31-bd4c-4456-a93f-bc074a715850",
   "metadata": {},
   "source": [
    "### 3. Do the same thing, but for starships."
   ]
  },
  {
   "cell_type": "code",
   "execution_count": 17,
   "id": "bc225945-5844-4e55-8211-f1d28bf2aede",
   "metadata": {},
   "outputs": [],
   "source": [
    "url = 'https://swapi.dev/api/starships'\n",
    "response = requests.get(url)"
   ]
  },
  {
   "cell_type": "code",
   "execution_count": 18,
   "id": "35ae6fce-8380-4948-8eed-fde84072184b",
   "metadata": {},
   "outputs": [
    {
     "data": {
      "text/plain": [
       "dict_keys(['count', 'next', 'previous', 'results'])"
      ]
     },
     "execution_count": 18,
     "metadata": {},
     "output_type": "execute_result"
    }
   ],
   "source": [
    "data = response.json()\n",
    "data.keys()"
   ]
  },
  {
   "cell_type": "code",
   "execution_count": 19,
   "id": "d579606f-6368-4f8e-9fc8-ae935242163b",
   "metadata": {},
   "outputs": [],
   "source": [
    "starships = pd.DataFrame(data['results'])"
   ]
  },
  {
   "cell_type": "code",
   "execution_count": 20,
   "id": "ecf4c868-8e06-470f-8170-f621661268af",
   "metadata": {},
   "outputs": [],
   "source": [
    "while data['next'] != None:\n",
    "    response = requests.get(data['next'])\n",
    "    data = response.json()\n",
    "\n",
    "    #next_page = data['next']\n",
    "\n",
    "    starships = pd.concat([starships, pd.DataFrame(data['results'])], ignore_index=True)\n"
   ]
  },
  {
   "cell_type": "code",
   "execution_count": 21,
   "id": "834fca6d-26ca-4e4f-b318-93ab3ae8a090",
   "metadata": {},
   "outputs": [
    {
     "name": "stdout",
     "output_type": "stream",
     "text": [
      "number_of_results: 6\n",
      "max_page: 6\n"
     ]
    }
   ],
   "source": [
    "number_of_starships = data['count']\n",
    "next_page = data['next']\n",
    "previous_page = data['previous']\n",
    "\n",
    "\n",
    "number_of_results = len(data['results'])\n",
    "max_page = math.ceil(number_of_starships / number_of_results)\n",
    "\n",
    "\n",
    "print(f'number_of_results: {number_of_results}')\n",
    "print(f'max_page: {max_page}')"
   ]
  },
  {
   "cell_type": "code",
   "execution_count": 22,
   "id": "7122b377-9a1e-4885-b4bf-65c8e1485f7a",
   "metadata": {},
   "outputs": [
    {
     "data": {
      "text/html": [
       "<div>\n",
       "<style scoped>\n",
       "    .dataframe tbody tr th:only-of-type {\n",
       "        vertical-align: middle;\n",
       "    }\n",
       "\n",
       "    .dataframe tbody tr th {\n",
       "        vertical-align: top;\n",
       "    }\n",
       "\n",
       "    .dataframe thead th {\n",
       "        text-align: right;\n",
       "    }\n",
       "</style>\n",
       "<table border=\"1\" class=\"dataframe\">\n",
       "  <thead>\n",
       "    <tr style=\"text-align: right;\">\n",
       "      <th></th>\n",
       "      <th>name</th>\n",
       "      <th>model</th>\n",
       "      <th>manufacturer</th>\n",
       "      <th>cost_in_credits</th>\n",
       "      <th>length</th>\n",
       "      <th>max_atmosphering_speed</th>\n",
       "      <th>crew</th>\n",
       "      <th>passengers</th>\n",
       "      <th>cargo_capacity</th>\n",
       "      <th>consumables</th>\n",
       "      <th>hyperdrive_rating</th>\n",
       "      <th>MGLT</th>\n",
       "      <th>starship_class</th>\n",
       "      <th>pilots</th>\n",
       "      <th>films</th>\n",
       "      <th>created</th>\n",
       "      <th>edited</th>\n",
       "      <th>url</th>\n",
       "    </tr>\n",
       "  </thead>\n",
       "  <tbody>\n",
       "    <tr>\n",
       "      <th>0</th>\n",
       "      <td>CR90 corvette</td>\n",
       "      <td>CR90 corvette</td>\n",
       "      <td>Corellian Engineering Corporation</td>\n",
       "      <td>3500000</td>\n",
       "      <td>150</td>\n",
       "      <td>950</td>\n",
       "      <td>30-165</td>\n",
       "      <td>600</td>\n",
       "      <td>3000000</td>\n",
       "      <td>1 year</td>\n",
       "      <td>2.0</td>\n",
       "      <td>60</td>\n",
       "      <td>corvette</td>\n",
       "      <td>[]</td>\n",
       "      <td>[https://swapi.dev/api/films/1/, https://swapi...</td>\n",
       "      <td>2014-12-10T14:20:33.369000Z</td>\n",
       "      <td>2014-12-20T21:23:49.867000Z</td>\n",
       "      <td>https://swapi.dev/api/starships/2/</td>\n",
       "    </tr>\n",
       "    <tr>\n",
       "      <th>1</th>\n",
       "      <td>Star Destroyer</td>\n",
       "      <td>Imperial I-class Star Destroyer</td>\n",
       "      <td>Kuat Drive Yards</td>\n",
       "      <td>150000000</td>\n",
       "      <td>1,600</td>\n",
       "      <td>975</td>\n",
       "      <td>47,060</td>\n",
       "      <td>n/a</td>\n",
       "      <td>36000000</td>\n",
       "      <td>2 years</td>\n",
       "      <td>2.0</td>\n",
       "      <td>60</td>\n",
       "      <td>Star Destroyer</td>\n",
       "      <td>[]</td>\n",
       "      <td>[https://swapi.dev/api/films/1/, https://swapi...</td>\n",
       "      <td>2014-12-10T15:08:19.848000Z</td>\n",
       "      <td>2014-12-20T21:23:49.870000Z</td>\n",
       "      <td>https://swapi.dev/api/starships/3/</td>\n",
       "    </tr>\n",
       "    <tr>\n",
       "      <th>2</th>\n",
       "      <td>Sentinel-class landing craft</td>\n",
       "      <td>Sentinel-class landing craft</td>\n",
       "      <td>Sienar Fleet Systems, Cyngus Spaceworks</td>\n",
       "      <td>240000</td>\n",
       "      <td>38</td>\n",
       "      <td>1000</td>\n",
       "      <td>5</td>\n",
       "      <td>75</td>\n",
       "      <td>180000</td>\n",
       "      <td>1 month</td>\n",
       "      <td>1.0</td>\n",
       "      <td>70</td>\n",
       "      <td>landing craft</td>\n",
       "      <td>[]</td>\n",
       "      <td>[https://swapi.dev/api/films/1/]</td>\n",
       "      <td>2014-12-10T15:48:00.586000Z</td>\n",
       "      <td>2014-12-20T21:23:49.873000Z</td>\n",
       "      <td>https://swapi.dev/api/starships/5/</td>\n",
       "    </tr>\n",
       "    <tr>\n",
       "      <th>3</th>\n",
       "      <td>Death Star</td>\n",
       "      <td>DS-1 Orbital Battle Station</td>\n",
       "      <td>Imperial Department of Military Research, Sien...</td>\n",
       "      <td>1000000000000</td>\n",
       "      <td>120000</td>\n",
       "      <td>n/a</td>\n",
       "      <td>342,953</td>\n",
       "      <td>843,342</td>\n",
       "      <td>1000000000000</td>\n",
       "      <td>3 years</td>\n",
       "      <td>4.0</td>\n",
       "      <td>10</td>\n",
       "      <td>Deep Space Mobile Battlestation</td>\n",
       "      <td>[]</td>\n",
       "      <td>[https://swapi.dev/api/films/1/]</td>\n",
       "      <td>2014-12-10T16:36:50.509000Z</td>\n",
       "      <td>2014-12-20T21:26:24.783000Z</td>\n",
       "      <td>https://swapi.dev/api/starships/9/</td>\n",
       "    </tr>\n",
       "    <tr>\n",
       "      <th>4</th>\n",
       "      <td>Millennium Falcon</td>\n",
       "      <td>YT-1300 light freighter</td>\n",
       "      <td>Corellian Engineering Corporation</td>\n",
       "      <td>100000</td>\n",
       "      <td>34.37</td>\n",
       "      <td>1050</td>\n",
       "      <td>4</td>\n",
       "      <td>6</td>\n",
       "      <td>100000</td>\n",
       "      <td>2 months</td>\n",
       "      <td>0.5</td>\n",
       "      <td>75</td>\n",
       "      <td>Light freighter</td>\n",
       "      <td>[https://swapi.dev/api/people/13/, https://swa...</td>\n",
       "      <td>[https://swapi.dev/api/films/1/, https://swapi...</td>\n",
       "      <td>2014-12-10T16:59:45.094000Z</td>\n",
       "      <td>2014-12-20T21:23:49.880000Z</td>\n",
       "      <td>https://swapi.dev/api/starships/10/</td>\n",
       "    </tr>\n",
       "    <tr>\n",
       "      <th>5</th>\n",
       "      <td>Y-wing</td>\n",
       "      <td>BTL Y-wing</td>\n",
       "      <td>Koensayr Manufacturing</td>\n",
       "      <td>134999</td>\n",
       "      <td>14</td>\n",
       "      <td>1000km</td>\n",
       "      <td>2</td>\n",
       "      <td>0</td>\n",
       "      <td>110</td>\n",
       "      <td>1 week</td>\n",
       "      <td>1.0</td>\n",
       "      <td>80</td>\n",
       "      <td>assault starfighter</td>\n",
       "      <td>[]</td>\n",
       "      <td>[https://swapi.dev/api/films/1/, https://swapi...</td>\n",
       "      <td>2014-12-12T11:00:39.817000Z</td>\n",
       "      <td>2014-12-20T21:23:49.883000Z</td>\n",
       "      <td>https://swapi.dev/api/starships/11/</td>\n",
       "    </tr>\n",
       "    <tr>\n",
       "      <th>6</th>\n",
       "      <td>X-wing</td>\n",
       "      <td>T-65 X-wing</td>\n",
       "      <td>Incom Corporation</td>\n",
       "      <td>149999</td>\n",
       "      <td>12.5</td>\n",
       "      <td>1050</td>\n",
       "      <td>1</td>\n",
       "      <td>0</td>\n",
       "      <td>110</td>\n",
       "      <td>1 week</td>\n",
       "      <td>1.0</td>\n",
       "      <td>100</td>\n",
       "      <td>Starfighter</td>\n",
       "      <td>[https://swapi.dev/api/people/1/, https://swap...</td>\n",
       "      <td>[https://swapi.dev/api/films/1/, https://swapi...</td>\n",
       "      <td>2014-12-12T11:19:05.340000Z</td>\n",
       "      <td>2014-12-20T21:23:49.886000Z</td>\n",
       "      <td>https://swapi.dev/api/starships/12/</td>\n",
       "    </tr>\n",
       "    <tr>\n",
       "      <th>7</th>\n",
       "      <td>TIE Advanced x1</td>\n",
       "      <td>Twin Ion Engine Advanced x1</td>\n",
       "      <td>Sienar Fleet Systems</td>\n",
       "      <td>unknown</td>\n",
       "      <td>9.2</td>\n",
       "      <td>1200</td>\n",
       "      <td>1</td>\n",
       "      <td>0</td>\n",
       "      <td>150</td>\n",
       "      <td>5 days</td>\n",
       "      <td>1.0</td>\n",
       "      <td>105</td>\n",
       "      <td>Starfighter</td>\n",
       "      <td>[https://swapi.dev/api/people/4/]</td>\n",
       "      <td>[https://swapi.dev/api/films/1/]</td>\n",
       "      <td>2014-12-12T11:21:32.991000Z</td>\n",
       "      <td>2014-12-20T21:23:49.889000Z</td>\n",
       "      <td>https://swapi.dev/api/starships/13/</td>\n",
       "    </tr>\n",
       "  </tbody>\n",
       "</table>\n",
       "</div>"
      ],
      "text/plain": [
       "                           name                            model  \\\n",
       "0                 CR90 corvette                    CR90 corvette   \n",
       "1                Star Destroyer  Imperial I-class Star Destroyer   \n",
       "2  Sentinel-class landing craft     Sentinel-class landing craft   \n",
       "3                    Death Star      DS-1 Orbital Battle Station   \n",
       "4             Millennium Falcon          YT-1300 light freighter   \n",
       "5                        Y-wing                       BTL Y-wing   \n",
       "6                        X-wing                      T-65 X-wing   \n",
       "7               TIE Advanced x1      Twin Ion Engine Advanced x1   \n",
       "\n",
       "                                        manufacturer cost_in_credits  length  \\\n",
       "0                  Corellian Engineering Corporation         3500000     150   \n",
       "1                                   Kuat Drive Yards       150000000   1,600   \n",
       "2            Sienar Fleet Systems, Cyngus Spaceworks          240000      38   \n",
       "3  Imperial Department of Military Research, Sien...   1000000000000  120000   \n",
       "4                  Corellian Engineering Corporation          100000   34.37   \n",
       "5                             Koensayr Manufacturing          134999      14   \n",
       "6                                  Incom Corporation          149999    12.5   \n",
       "7                               Sienar Fleet Systems         unknown     9.2   \n",
       "\n",
       "  max_atmosphering_speed     crew passengers cargo_capacity consumables  \\\n",
       "0                    950   30-165        600        3000000      1 year   \n",
       "1                    975   47,060        n/a       36000000     2 years   \n",
       "2                   1000        5         75         180000     1 month   \n",
       "3                    n/a  342,953    843,342  1000000000000     3 years   \n",
       "4                   1050        4          6         100000    2 months   \n",
       "5                 1000km        2          0            110      1 week   \n",
       "6                   1050        1          0            110      1 week   \n",
       "7                   1200        1          0            150      5 days   \n",
       "\n",
       "  hyperdrive_rating MGLT                   starship_class  \\\n",
       "0               2.0   60                         corvette   \n",
       "1               2.0   60                   Star Destroyer   \n",
       "2               1.0   70                    landing craft   \n",
       "3               4.0   10  Deep Space Mobile Battlestation   \n",
       "4               0.5   75                  Light freighter   \n",
       "5               1.0   80              assault starfighter   \n",
       "6               1.0  100                      Starfighter   \n",
       "7               1.0  105                      Starfighter   \n",
       "\n",
       "                                              pilots  \\\n",
       "0                                                 []   \n",
       "1                                                 []   \n",
       "2                                                 []   \n",
       "3                                                 []   \n",
       "4  [https://swapi.dev/api/people/13/, https://swa...   \n",
       "5                                                 []   \n",
       "6  [https://swapi.dev/api/people/1/, https://swap...   \n",
       "7                  [https://swapi.dev/api/people/4/]   \n",
       "\n",
       "                                               films  \\\n",
       "0  [https://swapi.dev/api/films/1/, https://swapi...   \n",
       "1  [https://swapi.dev/api/films/1/, https://swapi...   \n",
       "2                   [https://swapi.dev/api/films/1/]   \n",
       "3                   [https://swapi.dev/api/films/1/]   \n",
       "4  [https://swapi.dev/api/films/1/, https://swapi...   \n",
       "5  [https://swapi.dev/api/films/1/, https://swapi...   \n",
       "6  [https://swapi.dev/api/films/1/, https://swapi...   \n",
       "7                   [https://swapi.dev/api/films/1/]   \n",
       "\n",
       "                       created                       edited  \\\n",
       "0  2014-12-10T14:20:33.369000Z  2014-12-20T21:23:49.867000Z   \n",
       "1  2014-12-10T15:08:19.848000Z  2014-12-20T21:23:49.870000Z   \n",
       "2  2014-12-10T15:48:00.586000Z  2014-12-20T21:23:49.873000Z   \n",
       "3  2014-12-10T16:36:50.509000Z  2014-12-20T21:26:24.783000Z   \n",
       "4  2014-12-10T16:59:45.094000Z  2014-12-20T21:23:49.880000Z   \n",
       "5  2014-12-12T11:00:39.817000Z  2014-12-20T21:23:49.883000Z   \n",
       "6  2014-12-12T11:19:05.340000Z  2014-12-20T21:23:49.886000Z   \n",
       "7  2014-12-12T11:21:32.991000Z  2014-12-20T21:23:49.889000Z   \n",
       "\n",
       "                                   url  \n",
       "0   https://swapi.dev/api/starships/2/  \n",
       "1   https://swapi.dev/api/starships/3/  \n",
       "2   https://swapi.dev/api/starships/5/  \n",
       "3   https://swapi.dev/api/starships/9/  \n",
       "4  https://swapi.dev/api/starships/10/  \n",
       "5  https://swapi.dev/api/starships/11/  \n",
       "6  https://swapi.dev/api/starships/12/  \n",
       "7  https://swapi.dev/api/starships/13/  "
      ]
     },
     "execution_count": 22,
     "metadata": {},
     "output_type": "execute_result"
    }
   ],
   "source": [
    "starships.head(8)"
   ]
  },
  {
   "cell_type": "markdown",
   "id": "f9430b43-35fe-4dfe-b954-c9a47ff465f9",
   "metadata": {},
   "source": [
    "### 4.Save the data in your files to local csv files so that it will be faster to access in the future."
   ]
  },
  {
   "cell_type": "code",
   "execution_count": 23,
   "id": "0929d336-1593-4ff7-b01d-753657a0effd",
   "metadata": {},
   "outputs": [],
   "source": [
    "filename = \"people_starwars.csv\"\n",
    "\n",
    "people.to_csv(filename, index=False)"
   ]
  },
  {
   "cell_type": "code",
   "execution_count": 24,
   "id": "8ed81a0b-8e24-4175-8fa2-9333b926faa4",
   "metadata": {},
   "outputs": [],
   "source": [
    "filename = \"planets_starwars.csv\"\n",
    "\n",
    "planets.to_csv(filename, index=False)"
   ]
  },
  {
   "cell_type": "code",
   "execution_count": 25,
   "id": "8f5240fa-b3ca-461e-a85f-e9d6bf0498d5",
   "metadata": {},
   "outputs": [],
   "source": [
    "filename = \"starships_starwars.csv\"\n",
    "\n",
    "starships.to_csv(filename, index=False)"
   ]
  },
  {
   "cell_type": "markdown",
   "id": "6232280b-6d51-456b-8cda-355c7d916353",
   "metadata": {},
   "source": [
    "### 5. Combine the data from your three separate dataframes into one large dataframe."
   ]
  },
  {
   "cell_type": "code",
   "execution_count": 26,
   "id": "d0d0a91c-c940-4622-bebe-6f1140d313be",
   "metadata": {},
   "outputs": [],
   "source": [
    "ugly_df = pd.concat([people, starships])\n",
    "ugly_df = pd.concat([ugly_df, planets])"
   ]
  },
  {
   "cell_type": "code",
   "execution_count": 27,
   "id": "0bd5c501-d303-4c0b-be50-038c4b62c6ab",
   "metadata": {},
   "outputs": [
    {
     "data": {
      "text/plain": [
       "Index(['name', 'height', 'mass', 'hair_color', 'skin_color', 'eye_color',\n",
       "       'birth_year', 'gender', 'homeworld', 'films', 'species', 'vehicles',\n",
       "       'starships', 'created', 'edited', 'url'],\n",
       "      dtype='object')"
      ]
     },
     "execution_count": 27,
     "metadata": {},
     "output_type": "execute_result"
    }
   ],
   "source": [
    "people.columns"
   ]
  },
  {
   "cell_type": "code",
   "execution_count": 28,
   "id": "98fdee33-220f-4f2a-be11-15e69185e51b",
   "metadata": {},
   "outputs": [
    {
     "data": {
      "text/plain": [
       "Index(['name', 'model', 'manufacturer', 'cost_in_credits', 'length',\n",
       "       'max_atmosphering_speed', 'crew', 'passengers', 'cargo_capacity',\n",
       "       'consumables', 'hyperdrive_rating', 'MGLT', 'starship_class', 'pilots',\n",
       "       'films', 'created', 'edited', 'url'],\n",
       "      dtype='object')"
      ]
     },
     "execution_count": 28,
     "metadata": {},
     "output_type": "execute_result"
    }
   ],
   "source": [
    "starships.columns"
   ]
  },
  {
   "cell_type": "code",
   "execution_count": 29,
   "id": "9937ec79-50e9-429a-bc92-0554fb346f34",
   "metadata": {},
   "outputs": [
    {
     "data": {
      "text/plain": [
       "Index(['name', 'rotation_period', 'orbital_period', 'diameter', 'climate',\n",
       "       'gravity', 'terrain', 'surface_water', 'population', 'residents',\n",
       "       'films', 'created', 'edited', 'url'],\n",
       "      dtype='object')"
      ]
     },
     "execution_count": 29,
     "metadata": {},
     "output_type": "execute_result"
    }
   ],
   "source": [
    "planets.columns"
   ]
  },
  {
   "cell_type": "code",
   "execution_count": 30,
   "id": "c7a73778-6077-496f-886d-98f359c70cc1",
   "metadata": {},
   "outputs": [
    {
     "data": {
      "text/plain": [
       "Index(['name', 'height', 'mass', 'hair_color', 'skin_color', 'eye_color',\n",
       "       'birth_year', 'gender', 'homeworld', 'films', 'species', 'vehicles',\n",
       "       'starships', 'created', 'edited', 'url', 'model', 'manufacturer',\n",
       "       'cost_in_credits', 'length', 'max_atmosphering_speed', 'crew',\n",
       "       'passengers', 'cargo_capacity', 'consumables', 'hyperdrive_rating',\n",
       "       'MGLT', 'starship_class', 'pilots', 'rotation_period', 'orbital_period',\n",
       "       'diameter', 'climate', 'gravity', 'terrain', 'surface_water',\n",
       "       'population', 'residents'],\n",
       "      dtype='object')"
      ]
     },
     "execution_count": 30,
     "metadata": {},
     "output_type": "execute_result"
    }
   ],
   "source": [
    "ugly_df.columns"
   ]
  },
  {
   "cell_type": "markdown",
   "id": "aa152e18-392a-4f16-9c6a-4f28722a36d7",
   "metadata": {},
   "source": [
    "### 6. Acquire the Open Power Systems Data for Germany, which has been rapidly expanding its renewable energy production in recent years. The data set includes country-wide totals of electricity consumption, wind power production, and solar power production for 2006-2017. You can get the data here: https://raw.githubusercontent.com/jenfly/opsd/master/opsd_germany_daily.csv"
   ]
  },
  {
   "cell_type": "code",
   "execution_count": 31,
   "id": "c6739a69-98ab-4ecf-8daa-cd812984f58e",
   "metadata": {},
   "outputs": [],
   "source": [
    "url = 'https://raw.githubusercontent.com/jenfly/opsd/master/opsd_germany_daily.csv'"
   ]
  },
  {
   "cell_type": "code",
   "execution_count": 32,
   "id": "54b71cfd-07e8-4964-9705-566a9780a31e",
   "metadata": {},
   "outputs": [],
   "source": [
    "data = pd.read_csv(url)"
   ]
  },
  {
   "cell_type": "code",
   "execution_count": 33,
   "id": "57a91127-8a21-41ce-9f4f-becb7aa20e70",
   "metadata": {},
   "outputs": [
    {
     "data": {
      "text/html": [
       "<div>\n",
       "<style scoped>\n",
       "    .dataframe tbody tr th:only-of-type {\n",
       "        vertical-align: middle;\n",
       "    }\n",
       "\n",
       "    .dataframe tbody tr th {\n",
       "        vertical-align: top;\n",
       "    }\n",
       "\n",
       "    .dataframe thead th {\n",
       "        text-align: right;\n",
       "    }\n",
       "</style>\n",
       "<table border=\"1\" class=\"dataframe\">\n",
       "  <thead>\n",
       "    <tr style=\"text-align: right;\">\n",
       "      <th></th>\n",
       "      <th>Date</th>\n",
       "      <th>Consumption</th>\n",
       "      <th>Wind</th>\n",
       "      <th>Solar</th>\n",
       "      <th>Wind+Solar</th>\n",
       "    </tr>\n",
       "  </thead>\n",
       "  <tbody>\n",
       "    <tr>\n",
       "      <th>0</th>\n",
       "      <td>2006-01-01</td>\n",
       "      <td>1069.184</td>\n",
       "      <td>NaN</td>\n",
       "      <td>NaN</td>\n",
       "      <td>NaN</td>\n",
       "    </tr>\n",
       "    <tr>\n",
       "      <th>1</th>\n",
       "      <td>2006-01-02</td>\n",
       "      <td>1380.521</td>\n",
       "      <td>NaN</td>\n",
       "      <td>NaN</td>\n",
       "      <td>NaN</td>\n",
       "    </tr>\n",
       "    <tr>\n",
       "      <th>2</th>\n",
       "      <td>2006-01-03</td>\n",
       "      <td>1442.533</td>\n",
       "      <td>NaN</td>\n",
       "      <td>NaN</td>\n",
       "      <td>NaN</td>\n",
       "    </tr>\n",
       "    <tr>\n",
       "      <th>3</th>\n",
       "      <td>2006-01-04</td>\n",
       "      <td>1457.217</td>\n",
       "      <td>NaN</td>\n",
       "      <td>NaN</td>\n",
       "      <td>NaN</td>\n",
       "    </tr>\n",
       "    <tr>\n",
       "      <th>4</th>\n",
       "      <td>2006-01-05</td>\n",
       "      <td>1477.131</td>\n",
       "      <td>NaN</td>\n",
       "      <td>NaN</td>\n",
       "      <td>NaN</td>\n",
       "    </tr>\n",
       "  </tbody>\n",
       "</table>\n",
       "</div>"
      ],
      "text/plain": [
       "         Date  Consumption  Wind  Solar  Wind+Solar\n",
       "0  2006-01-01     1069.184   NaN    NaN         NaN\n",
       "1  2006-01-02     1380.521   NaN    NaN         NaN\n",
       "2  2006-01-03     1442.533   NaN    NaN         NaN\n",
       "3  2006-01-04     1457.217   NaN    NaN         NaN\n",
       "4  2006-01-05     1477.131   NaN    NaN         NaN"
      ]
     },
     "execution_count": 33,
     "metadata": {},
     "output_type": "execute_result"
    }
   ],
   "source": [
    "data.head()"
   ]
  },
  {
   "cell_type": "code",
   "execution_count": 34,
   "id": "2b6e9ba3-0cfa-48b2-bdf2-e542af710046",
   "metadata": {},
   "outputs": [],
   "source": [
    "df = a.wrangle_germany_power()"
   ]
  },
  {
   "cell_type": "code",
   "execution_count": 35,
   "id": "af2b3f02-c180-497b-ae26-62c03c6782d1",
   "metadata": {},
   "outputs": [
    {
     "data": {
      "text/html": [
       "<div>\n",
       "<style scoped>\n",
       "    .dataframe tbody tr th:only-of-type {\n",
       "        vertical-align: middle;\n",
       "    }\n",
       "\n",
       "    .dataframe tbody tr th {\n",
       "        vertical-align: top;\n",
       "    }\n",
       "\n",
       "    .dataframe thead th {\n",
       "        text-align: right;\n",
       "    }\n",
       "</style>\n",
       "<table border=\"1\" class=\"dataframe\">\n",
       "  <thead>\n",
       "    <tr style=\"text-align: right;\">\n",
       "      <th></th>\n",
       "      <th>Date</th>\n",
       "      <th>Consumption</th>\n",
       "      <th>Wind</th>\n",
       "      <th>Solar</th>\n",
       "      <th>Wind+Solar</th>\n",
       "    </tr>\n",
       "  </thead>\n",
       "  <tbody>\n",
       "    <tr>\n",
       "      <th>0</th>\n",
       "      <td>2006-01-01</td>\n",
       "      <td>1069.184</td>\n",
       "      <td>NaN</td>\n",
       "      <td>NaN</td>\n",
       "      <td>NaN</td>\n",
       "    </tr>\n",
       "    <tr>\n",
       "      <th>1</th>\n",
       "      <td>2006-01-02</td>\n",
       "      <td>1380.521</td>\n",
       "      <td>NaN</td>\n",
       "      <td>NaN</td>\n",
       "      <td>NaN</td>\n",
       "    </tr>\n",
       "    <tr>\n",
       "      <th>2</th>\n",
       "      <td>2006-01-03</td>\n",
       "      <td>1442.533</td>\n",
       "      <td>NaN</td>\n",
       "      <td>NaN</td>\n",
       "      <td>NaN</td>\n",
       "    </tr>\n",
       "    <tr>\n",
       "      <th>3</th>\n",
       "      <td>2006-01-04</td>\n",
       "      <td>1457.217</td>\n",
       "      <td>NaN</td>\n",
       "      <td>NaN</td>\n",
       "      <td>NaN</td>\n",
       "    </tr>\n",
       "    <tr>\n",
       "      <th>4</th>\n",
       "      <td>2006-01-05</td>\n",
       "      <td>1477.131</td>\n",
       "      <td>NaN</td>\n",
       "      <td>NaN</td>\n",
       "      <td>NaN</td>\n",
       "    </tr>\n",
       "  </tbody>\n",
       "</table>\n",
       "</div>"
      ],
      "text/plain": [
       "         Date  Consumption  Wind  Solar  Wind+Solar\n",
       "0  2006-01-01     1069.184   NaN    NaN         NaN\n",
       "1  2006-01-02     1380.521   NaN    NaN         NaN\n",
       "2  2006-01-03     1442.533   NaN    NaN         NaN\n",
       "3  2006-01-04     1457.217   NaN    NaN         NaN\n",
       "4  2006-01-05     1477.131   NaN    NaN         NaN"
      ]
     },
     "execution_count": 35,
     "metadata": {},
     "output_type": "execute_result"
    }
   ],
   "source": [
    "df.head()"
   ]
  },
  {
   "cell_type": "markdown",
   "id": "dec62ac8-7f24-4286-bf4d-41927d8f837c",
   "metadata": {},
   "source": [
    "### 7. Make sure all the work that you have done above is reproducible. That is, you should put the code above into separate functions in the acquire.py file and be able to re-run the functions and get the same data."
   ]
  },
  {
   "cell_type": "code",
   "execution_count": 36,
   "id": "ac4c60fc-74ec-40ec-8381-961f6f4c7fab",
   "metadata": {},
   "outputs": [
    {
     "name": "stdout",
     "output_type": "stream",
     "text": [
      "Done\n"
     ]
    }
   ],
   "source": [
    "print(\"Done\")"
   ]
  },
  {
   "cell_type": "code",
   "execution_count": 37,
   "id": "bd9637f0-00ca-468a-aa03-4fc083a1cce3",
   "metadata": {},
   "outputs": [],
   "source": [
    "people, planets, starships = a.wrangle_star_wars()"
   ]
  },
  {
   "cell_type": "code",
   "execution_count": 38,
   "id": "d0293d32-167d-4746-a3cb-5d73eaa321f6",
   "metadata": {},
   "outputs": [
    {
     "data": {
      "text/html": [
       "<div>\n",
       "<style scoped>\n",
       "    .dataframe tbody tr th:only-of-type {\n",
       "        vertical-align: middle;\n",
       "    }\n",
       "\n",
       "    .dataframe tbody tr th {\n",
       "        vertical-align: top;\n",
       "    }\n",
       "\n",
       "    .dataframe thead th {\n",
       "        text-align: right;\n",
       "    }\n",
       "</style>\n",
       "<table border=\"1\" class=\"dataframe\">\n",
       "  <thead>\n",
       "    <tr style=\"text-align: right;\">\n",
       "      <th></th>\n",
       "      <th>name</th>\n",
       "      <th>height</th>\n",
       "      <th>mass</th>\n",
       "      <th>hair_color</th>\n",
       "      <th>skin_color</th>\n",
       "      <th>eye_color</th>\n",
       "      <th>birth_year</th>\n",
       "      <th>gender</th>\n",
       "      <th>homeworld</th>\n",
       "      <th>films</th>\n",
       "      <th>species</th>\n",
       "      <th>vehicles</th>\n",
       "      <th>starships</th>\n",
       "      <th>created</th>\n",
       "      <th>edited</th>\n",
       "      <th>url</th>\n",
       "    </tr>\n",
       "  </thead>\n",
       "  <tbody>\n",
       "    <tr>\n",
       "      <th>0</th>\n",
       "      <td>Luke Skywalker</td>\n",
       "      <td>172</td>\n",
       "      <td>77</td>\n",
       "      <td>blond</td>\n",
       "      <td>fair</td>\n",
       "      <td>blue</td>\n",
       "      <td>19BBY</td>\n",
       "      <td>male</td>\n",
       "      <td>https://swapi.dev/api/planets/1/</td>\n",
       "      <td>['https://swapi.dev/api/films/1/', 'https://sw...</td>\n",
       "      <td>[]</td>\n",
       "      <td>['https://swapi.dev/api/vehicles/14/', 'https:...</td>\n",
       "      <td>['https://swapi.dev/api/starships/12/', 'https...</td>\n",
       "      <td>2014-12-09T13:50:51.644000Z</td>\n",
       "      <td>2014-12-20T21:17:56.891000Z</td>\n",
       "      <td>https://swapi.dev/api/people/1/</td>\n",
       "    </tr>\n",
       "    <tr>\n",
       "      <th>1</th>\n",
       "      <td>C-3PO</td>\n",
       "      <td>167</td>\n",
       "      <td>75</td>\n",
       "      <td>NaN</td>\n",
       "      <td>gold</td>\n",
       "      <td>yellow</td>\n",
       "      <td>112BBY</td>\n",
       "      <td>NaN</td>\n",
       "      <td>https://swapi.dev/api/planets/1/</td>\n",
       "      <td>['https://swapi.dev/api/films/1/', 'https://sw...</td>\n",
       "      <td>['https://swapi.dev/api/species/2/']</td>\n",
       "      <td>[]</td>\n",
       "      <td>[]</td>\n",
       "      <td>2014-12-10T15:10:51.357000Z</td>\n",
       "      <td>2014-12-20T21:17:50.309000Z</td>\n",
       "      <td>https://swapi.dev/api/people/2/</td>\n",
       "    </tr>\n",
       "    <tr>\n",
       "      <th>2</th>\n",
       "      <td>R2-D2</td>\n",
       "      <td>96</td>\n",
       "      <td>32</td>\n",
       "      <td>NaN</td>\n",
       "      <td>white, blue</td>\n",
       "      <td>red</td>\n",
       "      <td>33BBY</td>\n",
       "      <td>NaN</td>\n",
       "      <td>https://swapi.dev/api/planets/8/</td>\n",
       "      <td>['https://swapi.dev/api/films/1/', 'https://sw...</td>\n",
       "      <td>['https://swapi.dev/api/species/2/']</td>\n",
       "      <td>[]</td>\n",
       "      <td>[]</td>\n",
       "      <td>2014-12-10T15:11:50.376000Z</td>\n",
       "      <td>2014-12-20T21:17:50.311000Z</td>\n",
       "      <td>https://swapi.dev/api/people/3/</td>\n",
       "    </tr>\n",
       "    <tr>\n",
       "      <th>3</th>\n",
       "      <td>Darth Vader</td>\n",
       "      <td>202</td>\n",
       "      <td>136</td>\n",
       "      <td>none</td>\n",
       "      <td>white</td>\n",
       "      <td>yellow</td>\n",
       "      <td>41.9BBY</td>\n",
       "      <td>male</td>\n",
       "      <td>https://swapi.dev/api/planets/1/</td>\n",
       "      <td>['https://swapi.dev/api/films/1/', 'https://sw...</td>\n",
       "      <td>[]</td>\n",
       "      <td>[]</td>\n",
       "      <td>['https://swapi.dev/api/starships/13/']</td>\n",
       "      <td>2014-12-10T15:18:20.704000Z</td>\n",
       "      <td>2014-12-20T21:17:50.313000Z</td>\n",
       "      <td>https://swapi.dev/api/people/4/</td>\n",
       "    </tr>\n",
       "    <tr>\n",
       "      <th>4</th>\n",
       "      <td>Leia Organa</td>\n",
       "      <td>150</td>\n",
       "      <td>49</td>\n",
       "      <td>brown</td>\n",
       "      <td>light</td>\n",
       "      <td>brown</td>\n",
       "      <td>19BBY</td>\n",
       "      <td>female</td>\n",
       "      <td>https://swapi.dev/api/planets/2/</td>\n",
       "      <td>['https://swapi.dev/api/films/1/', 'https://sw...</td>\n",
       "      <td>[]</td>\n",
       "      <td>['https://swapi.dev/api/vehicles/30/']</td>\n",
       "      <td>[]</td>\n",
       "      <td>2014-12-10T15:20:09.791000Z</td>\n",
       "      <td>2014-12-20T21:17:50.315000Z</td>\n",
       "      <td>https://swapi.dev/api/people/5/</td>\n",
       "    </tr>\n",
       "  </tbody>\n",
       "</table>\n",
       "</div>"
      ],
      "text/plain": [
       "             name height mass hair_color   skin_color eye_color birth_year  \\\n",
       "0  Luke Skywalker    172   77      blond         fair      blue      19BBY   \n",
       "1           C-3PO    167   75        NaN         gold    yellow     112BBY   \n",
       "2           R2-D2     96   32        NaN  white, blue       red      33BBY   \n",
       "3     Darth Vader    202  136       none        white    yellow    41.9BBY   \n",
       "4     Leia Organa    150   49      brown        light     brown      19BBY   \n",
       "\n",
       "   gender                         homeworld  \\\n",
       "0    male  https://swapi.dev/api/planets/1/   \n",
       "1     NaN  https://swapi.dev/api/planets/1/   \n",
       "2     NaN  https://swapi.dev/api/planets/8/   \n",
       "3    male  https://swapi.dev/api/planets/1/   \n",
       "4  female  https://swapi.dev/api/planets/2/   \n",
       "\n",
       "                                               films  \\\n",
       "0  ['https://swapi.dev/api/films/1/', 'https://sw...   \n",
       "1  ['https://swapi.dev/api/films/1/', 'https://sw...   \n",
       "2  ['https://swapi.dev/api/films/1/', 'https://sw...   \n",
       "3  ['https://swapi.dev/api/films/1/', 'https://sw...   \n",
       "4  ['https://swapi.dev/api/films/1/', 'https://sw...   \n",
       "\n",
       "                                species  \\\n",
       "0                                    []   \n",
       "1  ['https://swapi.dev/api/species/2/']   \n",
       "2  ['https://swapi.dev/api/species/2/']   \n",
       "3                                    []   \n",
       "4                                    []   \n",
       "\n",
       "                                            vehicles  \\\n",
       "0  ['https://swapi.dev/api/vehicles/14/', 'https:...   \n",
       "1                                                 []   \n",
       "2                                                 []   \n",
       "3                                                 []   \n",
       "4             ['https://swapi.dev/api/vehicles/30/']   \n",
       "\n",
       "                                           starships  \\\n",
       "0  ['https://swapi.dev/api/starships/12/', 'https...   \n",
       "1                                                 []   \n",
       "2                                                 []   \n",
       "3            ['https://swapi.dev/api/starships/13/']   \n",
       "4                                                 []   \n",
       "\n",
       "                       created                       edited  \\\n",
       "0  2014-12-09T13:50:51.644000Z  2014-12-20T21:17:56.891000Z   \n",
       "1  2014-12-10T15:10:51.357000Z  2014-12-20T21:17:50.309000Z   \n",
       "2  2014-12-10T15:11:50.376000Z  2014-12-20T21:17:50.311000Z   \n",
       "3  2014-12-10T15:18:20.704000Z  2014-12-20T21:17:50.313000Z   \n",
       "4  2014-12-10T15:20:09.791000Z  2014-12-20T21:17:50.315000Z   \n",
       "\n",
       "                               url  \n",
       "0  https://swapi.dev/api/people/1/  \n",
       "1  https://swapi.dev/api/people/2/  \n",
       "2  https://swapi.dev/api/people/3/  \n",
       "3  https://swapi.dev/api/people/4/  \n",
       "4  https://swapi.dev/api/people/5/  "
      ]
     },
     "execution_count": 38,
     "metadata": {},
     "output_type": "execute_result"
    }
   ],
   "source": [
    "people.head()"
   ]
  },
  {
   "cell_type": "code",
   "execution_count": 39,
   "id": "5142e91b-a707-4069-a883-57e1417dd1ff",
   "metadata": {},
   "outputs": [
    {
     "data": {
      "text/html": [
       "<div>\n",
       "<style scoped>\n",
       "    .dataframe tbody tr th:only-of-type {\n",
       "        vertical-align: middle;\n",
       "    }\n",
       "\n",
       "    .dataframe tbody tr th {\n",
       "        vertical-align: top;\n",
       "    }\n",
       "\n",
       "    .dataframe thead th {\n",
       "        text-align: right;\n",
       "    }\n",
       "</style>\n",
       "<table border=\"1\" class=\"dataframe\">\n",
       "  <thead>\n",
       "    <tr style=\"text-align: right;\">\n",
       "      <th></th>\n",
       "      <th>name</th>\n",
       "      <th>rotation_period</th>\n",
       "      <th>orbital_period</th>\n",
       "      <th>diameter</th>\n",
       "      <th>climate</th>\n",
       "      <th>gravity</th>\n",
       "      <th>terrain</th>\n",
       "      <th>surface_water</th>\n",
       "      <th>population</th>\n",
       "      <th>residents</th>\n",
       "      <th>films</th>\n",
       "      <th>created</th>\n",
       "      <th>edited</th>\n",
       "      <th>url</th>\n",
       "    </tr>\n",
       "  </thead>\n",
       "  <tbody>\n",
       "    <tr>\n",
       "      <th>0</th>\n",
       "      <td>Tatooine</td>\n",
       "      <td>23</td>\n",
       "      <td>304</td>\n",
       "      <td>10465</td>\n",
       "      <td>arid</td>\n",
       "      <td>1 standard</td>\n",
       "      <td>desert</td>\n",
       "      <td>1</td>\n",
       "      <td>200000</td>\n",
       "      <td>['https://swapi.dev/api/people/1/', 'https://s...</td>\n",
       "      <td>['https://swapi.dev/api/films/1/', 'https://sw...</td>\n",
       "      <td>2014-12-09T13:50:49.641000Z</td>\n",
       "      <td>2014-12-20T20:58:18.411000Z</td>\n",
       "      <td>https://swapi.dev/api/planets/1/</td>\n",
       "    </tr>\n",
       "    <tr>\n",
       "      <th>1</th>\n",
       "      <td>Alderaan</td>\n",
       "      <td>24</td>\n",
       "      <td>364</td>\n",
       "      <td>12500</td>\n",
       "      <td>temperate</td>\n",
       "      <td>1 standard</td>\n",
       "      <td>grasslands, mountains</td>\n",
       "      <td>40</td>\n",
       "      <td>2000000000</td>\n",
       "      <td>['https://swapi.dev/api/people/5/', 'https://s...</td>\n",
       "      <td>['https://swapi.dev/api/films/1/', 'https://sw...</td>\n",
       "      <td>2014-12-10T11:35:48.479000Z</td>\n",
       "      <td>2014-12-20T20:58:18.420000Z</td>\n",
       "      <td>https://swapi.dev/api/planets/2/</td>\n",
       "    </tr>\n",
       "    <tr>\n",
       "      <th>2</th>\n",
       "      <td>Yavin IV</td>\n",
       "      <td>24</td>\n",
       "      <td>4818</td>\n",
       "      <td>10200</td>\n",
       "      <td>temperate, tropical</td>\n",
       "      <td>1 standard</td>\n",
       "      <td>jungle, rainforests</td>\n",
       "      <td>8</td>\n",
       "      <td>1000</td>\n",
       "      <td>[]</td>\n",
       "      <td>['https://swapi.dev/api/films/1/']</td>\n",
       "      <td>2014-12-10T11:37:19.144000Z</td>\n",
       "      <td>2014-12-20T20:58:18.421000Z</td>\n",
       "      <td>https://swapi.dev/api/planets/3/</td>\n",
       "    </tr>\n",
       "    <tr>\n",
       "      <th>3</th>\n",
       "      <td>Hoth</td>\n",
       "      <td>23</td>\n",
       "      <td>549</td>\n",
       "      <td>7200</td>\n",
       "      <td>frozen</td>\n",
       "      <td>1.1 standard</td>\n",
       "      <td>tundra, ice caves, mountain ranges</td>\n",
       "      <td>100</td>\n",
       "      <td>unknown</td>\n",
       "      <td>[]</td>\n",
       "      <td>['https://swapi.dev/api/films/2/']</td>\n",
       "      <td>2014-12-10T11:39:13.934000Z</td>\n",
       "      <td>2014-12-20T20:58:18.423000Z</td>\n",
       "      <td>https://swapi.dev/api/planets/4/</td>\n",
       "    </tr>\n",
       "    <tr>\n",
       "      <th>4</th>\n",
       "      <td>Dagobah</td>\n",
       "      <td>23</td>\n",
       "      <td>341</td>\n",
       "      <td>8900</td>\n",
       "      <td>murky</td>\n",
       "      <td>NaN</td>\n",
       "      <td>swamp, jungles</td>\n",
       "      <td>8</td>\n",
       "      <td>unknown</td>\n",
       "      <td>[]</td>\n",
       "      <td>['https://swapi.dev/api/films/2/', 'https://sw...</td>\n",
       "      <td>2014-12-10T11:42:22.590000Z</td>\n",
       "      <td>2014-12-20T20:58:18.425000Z</td>\n",
       "      <td>https://swapi.dev/api/planets/5/</td>\n",
       "    </tr>\n",
       "  </tbody>\n",
       "</table>\n",
       "</div>"
      ],
      "text/plain": [
       "       name  rotation_period  orbital_period  diameter              climate  \\\n",
       "0  Tatooine               23             304     10465                 arid   \n",
       "1  Alderaan               24             364     12500            temperate   \n",
       "2  Yavin IV               24            4818     10200  temperate, tropical   \n",
       "3      Hoth               23             549      7200               frozen   \n",
       "4   Dagobah               23             341      8900                murky   \n",
       "\n",
       "        gravity                             terrain surface_water  population  \\\n",
       "0    1 standard                              desert             1      200000   \n",
       "1    1 standard               grasslands, mountains            40  2000000000   \n",
       "2    1 standard                 jungle, rainforests             8        1000   \n",
       "3  1.1 standard  tundra, ice caves, mountain ranges           100     unknown   \n",
       "4           NaN                      swamp, jungles             8     unknown   \n",
       "\n",
       "                                           residents  \\\n",
       "0  ['https://swapi.dev/api/people/1/', 'https://s...   \n",
       "1  ['https://swapi.dev/api/people/5/', 'https://s...   \n",
       "2                                                 []   \n",
       "3                                                 []   \n",
       "4                                                 []   \n",
       "\n",
       "                                               films  \\\n",
       "0  ['https://swapi.dev/api/films/1/', 'https://sw...   \n",
       "1  ['https://swapi.dev/api/films/1/', 'https://sw...   \n",
       "2                 ['https://swapi.dev/api/films/1/']   \n",
       "3                 ['https://swapi.dev/api/films/2/']   \n",
       "4  ['https://swapi.dev/api/films/2/', 'https://sw...   \n",
       "\n",
       "                       created                       edited  \\\n",
       "0  2014-12-09T13:50:49.641000Z  2014-12-20T20:58:18.411000Z   \n",
       "1  2014-12-10T11:35:48.479000Z  2014-12-20T20:58:18.420000Z   \n",
       "2  2014-12-10T11:37:19.144000Z  2014-12-20T20:58:18.421000Z   \n",
       "3  2014-12-10T11:39:13.934000Z  2014-12-20T20:58:18.423000Z   \n",
       "4  2014-12-10T11:42:22.590000Z  2014-12-20T20:58:18.425000Z   \n",
       "\n",
       "                                url  \n",
       "0  https://swapi.dev/api/planets/1/  \n",
       "1  https://swapi.dev/api/planets/2/  \n",
       "2  https://swapi.dev/api/planets/3/  \n",
       "3  https://swapi.dev/api/planets/4/  \n",
       "4  https://swapi.dev/api/planets/5/  "
      ]
     },
     "execution_count": 39,
     "metadata": {},
     "output_type": "execute_result"
    }
   ],
   "source": [
    "planets.head()"
   ]
  },
  {
   "cell_type": "code",
   "execution_count": 40,
   "id": "ebda7d9d-1068-4dd9-bfe4-da14b75dbf1e",
   "metadata": {},
   "outputs": [
    {
     "data": {
      "text/html": [
       "<div>\n",
       "<style scoped>\n",
       "    .dataframe tbody tr th:only-of-type {\n",
       "        vertical-align: middle;\n",
       "    }\n",
       "\n",
       "    .dataframe tbody tr th {\n",
       "        vertical-align: top;\n",
       "    }\n",
       "\n",
       "    .dataframe thead th {\n",
       "        text-align: right;\n",
       "    }\n",
       "</style>\n",
       "<table border=\"1\" class=\"dataframe\">\n",
       "  <thead>\n",
       "    <tr style=\"text-align: right;\">\n",
       "      <th></th>\n",
       "      <th>name</th>\n",
       "      <th>model</th>\n",
       "      <th>manufacturer</th>\n",
       "      <th>cost_in_credits</th>\n",
       "      <th>length</th>\n",
       "      <th>max_atmosphering_speed</th>\n",
       "      <th>crew</th>\n",
       "      <th>passengers</th>\n",
       "      <th>cargo_capacity</th>\n",
       "      <th>consumables</th>\n",
       "      <th>hyperdrive_rating</th>\n",
       "      <th>MGLT</th>\n",
       "      <th>starship_class</th>\n",
       "      <th>pilots</th>\n",
       "      <th>films</th>\n",
       "      <th>created</th>\n",
       "      <th>edited</th>\n",
       "      <th>url</th>\n",
       "    </tr>\n",
       "  </thead>\n",
       "  <tbody>\n",
       "    <tr>\n",
       "      <th>0</th>\n",
       "      <td>CR90 corvette</td>\n",
       "      <td>CR90 corvette</td>\n",
       "      <td>Corellian Engineering Corporation</td>\n",
       "      <td>3500000</td>\n",
       "      <td>150</td>\n",
       "      <td>950</td>\n",
       "      <td>30-165</td>\n",
       "      <td>600</td>\n",
       "      <td>3000000</td>\n",
       "      <td>1 year</td>\n",
       "      <td>2.0</td>\n",
       "      <td>60</td>\n",
       "      <td>corvette</td>\n",
       "      <td>[]</td>\n",
       "      <td>['https://swapi.dev/api/films/1/', 'https://sw...</td>\n",
       "      <td>2014-12-10T14:20:33.369000Z</td>\n",
       "      <td>2014-12-20T21:23:49.867000Z</td>\n",
       "      <td>https://swapi.dev/api/starships/2/</td>\n",
       "    </tr>\n",
       "    <tr>\n",
       "      <th>1</th>\n",
       "      <td>Star Destroyer</td>\n",
       "      <td>Imperial I-class Star Destroyer</td>\n",
       "      <td>Kuat Drive Yards</td>\n",
       "      <td>150000000</td>\n",
       "      <td>1,600</td>\n",
       "      <td>975</td>\n",
       "      <td>47,060</td>\n",
       "      <td>NaN</td>\n",
       "      <td>36000000</td>\n",
       "      <td>2 years</td>\n",
       "      <td>2.0</td>\n",
       "      <td>60</td>\n",
       "      <td>Star Destroyer</td>\n",
       "      <td>[]</td>\n",
       "      <td>['https://swapi.dev/api/films/1/', 'https://sw...</td>\n",
       "      <td>2014-12-10T15:08:19.848000Z</td>\n",
       "      <td>2014-12-20T21:23:49.870000Z</td>\n",
       "      <td>https://swapi.dev/api/starships/3/</td>\n",
       "    </tr>\n",
       "    <tr>\n",
       "      <th>2</th>\n",
       "      <td>Sentinel-class landing craft</td>\n",
       "      <td>Sentinel-class landing craft</td>\n",
       "      <td>Sienar Fleet Systems, Cyngus Spaceworks</td>\n",
       "      <td>240000</td>\n",
       "      <td>38</td>\n",
       "      <td>1000</td>\n",
       "      <td>5</td>\n",
       "      <td>75</td>\n",
       "      <td>180000</td>\n",
       "      <td>1 month</td>\n",
       "      <td>1.0</td>\n",
       "      <td>70</td>\n",
       "      <td>landing craft</td>\n",
       "      <td>[]</td>\n",
       "      <td>['https://swapi.dev/api/films/1/']</td>\n",
       "      <td>2014-12-10T15:48:00.586000Z</td>\n",
       "      <td>2014-12-20T21:23:49.873000Z</td>\n",
       "      <td>https://swapi.dev/api/starships/5/</td>\n",
       "    </tr>\n",
       "    <tr>\n",
       "      <th>3</th>\n",
       "      <td>Death Star</td>\n",
       "      <td>DS-1 Orbital Battle Station</td>\n",
       "      <td>Imperial Department of Military Research, Sien...</td>\n",
       "      <td>1000000000000</td>\n",
       "      <td>120000</td>\n",
       "      <td>NaN</td>\n",
       "      <td>342,953</td>\n",
       "      <td>843,342</td>\n",
       "      <td>1000000000000</td>\n",
       "      <td>3 years</td>\n",
       "      <td>4.0</td>\n",
       "      <td>10</td>\n",
       "      <td>Deep Space Mobile Battlestation</td>\n",
       "      <td>[]</td>\n",
       "      <td>['https://swapi.dev/api/films/1/']</td>\n",
       "      <td>2014-12-10T16:36:50.509000Z</td>\n",
       "      <td>2014-12-20T21:26:24.783000Z</td>\n",
       "      <td>https://swapi.dev/api/starships/9/</td>\n",
       "    </tr>\n",
       "    <tr>\n",
       "      <th>4</th>\n",
       "      <td>Millennium Falcon</td>\n",
       "      <td>YT-1300 light freighter</td>\n",
       "      <td>Corellian Engineering Corporation</td>\n",
       "      <td>100000</td>\n",
       "      <td>34.37</td>\n",
       "      <td>1050</td>\n",
       "      <td>4</td>\n",
       "      <td>6</td>\n",
       "      <td>100000</td>\n",
       "      <td>2 months</td>\n",
       "      <td>0.5</td>\n",
       "      <td>75</td>\n",
       "      <td>Light freighter</td>\n",
       "      <td>['https://swapi.dev/api/people/13/', 'https://...</td>\n",
       "      <td>['https://swapi.dev/api/films/1/', 'https://sw...</td>\n",
       "      <td>2014-12-10T16:59:45.094000Z</td>\n",
       "      <td>2014-12-20T21:23:49.880000Z</td>\n",
       "      <td>https://swapi.dev/api/starships/10/</td>\n",
       "    </tr>\n",
       "  </tbody>\n",
       "</table>\n",
       "</div>"
      ],
      "text/plain": [
       "                           name                            model  \\\n",
       "0                 CR90 corvette                    CR90 corvette   \n",
       "1                Star Destroyer  Imperial I-class Star Destroyer   \n",
       "2  Sentinel-class landing craft     Sentinel-class landing craft   \n",
       "3                    Death Star      DS-1 Orbital Battle Station   \n",
       "4             Millennium Falcon          YT-1300 light freighter   \n",
       "\n",
       "                                        manufacturer cost_in_credits  length  \\\n",
       "0                  Corellian Engineering Corporation         3500000     150   \n",
       "1                                   Kuat Drive Yards       150000000   1,600   \n",
       "2            Sienar Fleet Systems, Cyngus Spaceworks          240000      38   \n",
       "3  Imperial Department of Military Research, Sien...   1000000000000  120000   \n",
       "4                  Corellian Engineering Corporation          100000   34.37   \n",
       "\n",
       "  max_atmosphering_speed     crew passengers cargo_capacity consumables  \\\n",
       "0                    950   30-165        600        3000000      1 year   \n",
       "1                    975   47,060        NaN       36000000     2 years   \n",
       "2                   1000        5         75         180000     1 month   \n",
       "3                    NaN  342,953    843,342  1000000000000     3 years   \n",
       "4                   1050        4          6         100000    2 months   \n",
       "\n",
       "  hyperdrive_rating MGLT                   starship_class  \\\n",
       "0               2.0   60                         corvette   \n",
       "1               2.0   60                   Star Destroyer   \n",
       "2               1.0   70                    landing craft   \n",
       "3               4.0   10  Deep Space Mobile Battlestation   \n",
       "4               0.5   75                  Light freighter   \n",
       "\n",
       "                                              pilots  \\\n",
       "0                                                 []   \n",
       "1                                                 []   \n",
       "2                                                 []   \n",
       "3                                                 []   \n",
       "4  ['https://swapi.dev/api/people/13/', 'https://...   \n",
       "\n",
       "                                               films  \\\n",
       "0  ['https://swapi.dev/api/films/1/', 'https://sw...   \n",
       "1  ['https://swapi.dev/api/films/1/', 'https://sw...   \n",
       "2                 ['https://swapi.dev/api/films/1/']   \n",
       "3                 ['https://swapi.dev/api/films/1/']   \n",
       "4  ['https://swapi.dev/api/films/1/', 'https://sw...   \n",
       "\n",
       "                       created                       edited  \\\n",
       "0  2014-12-10T14:20:33.369000Z  2014-12-20T21:23:49.867000Z   \n",
       "1  2014-12-10T15:08:19.848000Z  2014-12-20T21:23:49.870000Z   \n",
       "2  2014-12-10T15:48:00.586000Z  2014-12-20T21:23:49.873000Z   \n",
       "3  2014-12-10T16:36:50.509000Z  2014-12-20T21:26:24.783000Z   \n",
       "4  2014-12-10T16:59:45.094000Z  2014-12-20T21:23:49.880000Z   \n",
       "\n",
       "                                   url  \n",
       "0   https://swapi.dev/api/starships/2/  \n",
       "1   https://swapi.dev/api/starships/3/  \n",
       "2   https://swapi.dev/api/starships/5/  \n",
       "3   https://swapi.dev/api/starships/9/  \n",
       "4  https://swapi.dev/api/starships/10/  "
      ]
     },
     "execution_count": 40,
     "metadata": {},
     "output_type": "execute_result"
    }
   ],
   "source": [
    "starships.head()"
   ]
  },
  {
   "cell_type": "code",
   "execution_count": 41,
   "id": "cfaf43df-8a22-495f-a3ea-c704adfcedf5",
   "metadata": {},
   "outputs": [],
   "source": [
    "#Not working yet\n",
    "\n",
    "#new_big_df = a.wrangle_star_wars(return_ugly=True)"
   ]
  },
  {
   "cell_type": "code",
   "execution_count": 42,
   "id": "e676005c-982c-40e0-8184-5e976244a12b",
   "metadata": {},
   "outputs": [],
   "source": [
    "#type(new_big_df)"
   ]
  },
  {
   "cell_type": "code",
   "execution_count": null,
   "id": "7970ef3f-c9a8-4ba8-96cd-62e0ca72d801",
   "metadata": {},
   "outputs": [],
   "source": []
  }
 ],
 "metadata": {
  "kernelspec": {
   "display_name": "Python 3 (ipykernel)",
   "language": "python",
   "name": "python3"
  },
  "language_info": {
   "codemirror_mode": {
    "name": "ipython",
    "version": 3
   },
   "file_extension": ".py",
   "mimetype": "text/x-python",
   "name": "python",
   "nbconvert_exporter": "python",
   "pygments_lexer": "ipython3",
   "version": "3.9.15"
  }
 },
 "nbformat": 4,
 "nbformat_minor": 5
}
